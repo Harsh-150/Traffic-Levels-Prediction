{
 "cells": [
  {
   "cell_type": "code",
   "execution_count": null,
   "id": "e9946def",
   "metadata": {},
   "outputs": [
    {
     "ename": "",
     "evalue": "",
     "output_type": "error",
     "traceback": [
      "\u001b[1;31mFailed to start the Kernel. \n",
      "\u001b[1;31mAttributeError: module 'pkgutil' has no attribute 'ImpImporter'. Did you mean: 'zipimporter'?. \n",
      "\u001b[1;31mView Jupyter <a href='command:jupyter.viewOutput'>log</a> for further details."
     ]
    }
   ],
   "source": [
    "import numpy as np\n",
    "import pandas as pd\n",
    "import matplotlib.pyplot as plt\n",
    "import seaborn as sns\n",
    "from sklearn.preprocessing import LabelEncoder, MinMaxScaler, OneHotEncoder\n",
    "from sklearn.model_selection import train_test_split\n",
    "from sklearn.metrics import classification_report, confusion_matrix, mean_squared_error, mean_absolute_error\n",
    "import tensorflow as tf\n",
    "from tensorflow.keras.models import Sequential, Model\n",
    "from tensorflow.keras.layers import Conv1D, MaxPooling1D, Flatten, Dense, Dropout, BatchNormalization, Input, concatenate\n",
    "from tensorflow.keras.optimizers import Adam\n",
    "from tensorflow.keras.utils import to_categorical\n",
    "from tensorflow.keras.callbacks import EarlyStopping\n",
    "import joblib"
   ]
  },
  {
   "cell_type": "code",
   "execution_count": 52,
   "id": "31b3f73b",
   "metadata": {},
   "outputs": [],
   "source": [
    "df = pd.read_csv('TrafficTwoMonth.csv')"
   ]
  },
  {
   "cell_type": "code",
   "execution_count": 53,
   "id": "8d6defaa",
   "metadata": {},
   "outputs": [
    {
     "name": "stdout",
     "output_type": "stream",
     "text": [
      "          Time  Time_hour  Time_minute Day of the week  \\\n",
      "0  12:00:00 AM          0            0         Tuesday   \n",
      "1  12:15:00 AM          0           15         Tuesday   \n",
      "2  12:30:00 AM          0           30         Tuesday   \n",
      "3  12:45:00 AM          0           45         Tuesday   \n",
      "4   1:00:00 AM          1            0         Tuesday   \n",
      "\n",
      "   Day_of_the_week_encoded  \n",
      "0                        1  \n",
      "1                        1  \n",
      "2                        1  \n",
      "3                        1  \n",
      "4                        1  \n"
     ]
    },
    {
     "name": "stderr",
     "output_type": "stream",
     "text": [
      "C:\\Users\\XPS\\AppData\\Local\\Temp\\ipykernel_16736\\471517607.py:1: UserWarning: Could not infer format, so each element will be parsed individually, falling back to `dateutil`. To ensure parsing is consistent and as-expected, please specify a format.\n",
      "  df['Time_hour'] = pd.to_datetime(df['Time']).dt.hour\n",
      "C:\\Users\\XPS\\AppData\\Local\\Temp\\ipykernel_16736\\471517607.py:2: UserWarning: Could not infer format, so each element will be parsed individually, falling back to `dateutil`. To ensure parsing is consistent and as-expected, please specify a format.\n",
      "  df['Time_minute'] = pd.to_datetime(df['Time']).dt.minute\n"
     ]
    }
   ],
   "source": [
    "df['Time_hour'] = pd.to_datetime(df['Time']).dt.hour\n",
    "df['Time_minute'] = pd.to_datetime(df['Time']).dt.minute\n",
    "\n",
    "df['Day_of_the_week_encoded'] = df['Day of the week'].map({\n",
    "    'Monday':0, 'Tuesday':1, 'Wednesday':2, 'Thursday':3, 'Friday':4, 'Saturday':5, 'Sunday':6\n",
    "})\n",
    "\n",
    "print(df[['Time', 'Time_hour', 'Time_minute', 'Day of the week', 'Day_of_the_week_encoded']].head())"
   ]
  },
  {
   "cell_type": "code",
   "execution_count": 54,
   "id": "8a244706",
   "metadata": {},
   "outputs": [
    {
     "name": "stdout",
     "output_type": "stream",
     "text": [
      "Shape of y_traffic_situation (one-hot encoded): (5952, 4)\n",
      "Shape of y_vehicle_counts (raw counts): (5952, 4)\n",
      "New numerical input features: ['Time_hour', 'Time_minute', 'Date', 'Day_of_the_week_encoded']\n"
     ]
    }
   ],
   "source": [
    "label_encoder = LabelEncoder()\n",
    "df['Traffic_Situation_encoded'] = label_encoder.fit_transform(df['Traffic Situation'])\n",
    "y_traffic_situation = to_categorical(df['Traffic_Situation_encoded']) \n",
    "\n",
    "vehicle_count_features = ['CarCount', 'BikeCount', 'BusCount', 'TruckCount']\n",
    "y_vehicle_counts = df[vehicle_count_features].values\n",
    "\n",
    "numerical_features = ['Time_hour', 'Time_minute', 'Date', 'Day_of_the_week_encoded']\n",
    "\n",
    "print(f\"Shape of y_traffic_situation (one-hot encoded): {y_traffic_situation.shape}\")\n",
    "print(f\"Shape of y_vehicle_counts (raw counts): {y_vehicle_counts.shape}\")\n",
    "print(f\"New numerical input features: {numerical_features}\")"
   ]
  },
  {
   "cell_type": "code",
   "execution_count": 55,
   "id": "6c8e270d",
   "metadata": {},
   "outputs": [
    {
     "name": "stdout",
     "output_type": "stream",
     "text": [
      "Shape of X_numerical_reshaped (for CNN input): (5952, 4, 1)\n"
     ]
    }
   ],
   "source": [
    "scaler = MinMaxScaler()\n",
    "\n",
    "X_numerical_scaled = scaler.fit_transform(df[numerical_features])\n",
    "X_numerical_reshaped = X_numerical_scaled.reshape(X_numerical_scaled.shape[0], X_numerical_scaled.shape[1], 1)\n",
    "\n",
    "print(f\"Shape of X_numerical_reshaped (for CNN input): {X_numerical_reshaped.shape}\")"
   ]
  },
  {
   "cell_type": "code",
   "execution_count": 56,
   "id": "6acf0cf9",
   "metadata": {},
   "outputs": [
    {
     "name": "stdout",
     "output_type": "stream",
     "text": [
      "Shape of X_location_onehot (for Location input): (5952, 2)\n",
      "Unique locations encoded: ['Delhi' 'Mumbai']\n"
     ]
    }
   ],
   "source": [
    "onehot_encoder_location = OneHotEncoder(sparse_output=False)\n",
    "X_location_onehot = onehot_encoder_location.fit_transform(df[['Location']])\n",
    "\n",
    "print(f\"Shape of X_location_onehot (for Location input): {X_location_onehot.shape}\")\n",
    "print(f\"Unique locations encoded: {onehot_encoder_location.categories_[0]}\")"
   ]
  },
  {
   "cell_type": "code",
   "execution_count": 57,
   "id": "4556d0c2",
   "metadata": {},
   "outputs": [
    {
     "name": "stdout",
     "output_type": "stream",
     "text": [
      "X_train_num shape: (4761, 4, 1), X_test_num shape: (1191, 4, 1)\n",
      "X_train_loc shape: (4761, 2), X_test_loc shape: (1191, 2)\n",
      "y_train_traffic shape: (4761, 4), y_test_traffic shape: (1191, 4)\n",
      "y_train_vehicles shape: (4761, 4), y_test_vehicles shape: (1191, 4)\n"
     ]
    }
   ],
   "source": [
    "X_train_num, X_test_num, \\\n",
    "X_train_loc, X_test_loc, \\\n",
    "y_train_traffic, y_test_traffic, \\\n",
    "y_train_vehicles, y_test_vehicles = train_test_split(\n",
    "    X_numerical_reshaped, X_location_onehot, y_traffic_situation, y_vehicle_counts,\n",
    "    test_size=0.2, random_state=42\n",
    ")\n",
    "\n",
    "print(f\"X_train_num shape: {X_train_num.shape}, X_test_num shape: {X_test_num.shape}\")\n",
    "print(f\"X_train_loc shape: {X_train_loc.shape}, X_test_loc shape: {X_test_loc.shape}\")\n",
    "print(f\"y_train_traffic shape: {y_train_traffic.shape}, y_test_traffic shape: {y_test_traffic.shape}\")\n",
    "print(f\"y_train_vehicles shape: {y_train_vehicles.shape}, y_test_vehicles shape: {y_test_vehicles.shape}\")"
   ]
  },
  {
   "cell_type": "code",
   "execution_count": 58,
   "id": "e0a6d82f",
   "metadata": {},
   "outputs": [
    {
     "name": "stdout",
     "output_type": "stream",
     "text": [
      "NEW Preprocessing objects saved with updated filenames.\n"
     ]
    }
   ],
   "source": [
    "joblib.dump(scaler, 'traffic_scaler_temporal_spatial_only.pkl') \n",
    "joblib.dump(label_encoder, 'traffic_label_encoder_temporal_spatial_only.pkl') \n",
    "joblib.dump(onehot_encoder_location, 'location_onehot_encoder_temporal_spatial_only.pkl')\n",
    "\n",
    "print(\"NEW Preprocessing objects saved with updated filenames.\")"
   ]
  },
  {
   "cell_type": "code",
   "execution_count": 59,
   "id": "26d31eec",
   "metadata": {},
   "outputs": [],
   "source": [
    "numerical_input = Input(shape=(X_train_num.shape[1], 1), name='numerical_input')\n",
    "conv1 = Conv1D(filters=64, kernel_size=3, activation='relu', padding='same')(numerical_input)\n",
    "batch1 = BatchNormalization()(conv1)\n",
    "pool1 = MaxPooling1D(pool_size=2)(batch1)\n",
    "drop1 = Dropout(0.3)(pool1)\n",
    "\n",
    "conv2 = Conv1D(filters=128, kernel_size=3, activation='relu', padding='same')(drop1)\n",
    "batch2 = BatchNormalization()(conv2)\n",
    "pool2 = MaxPooling1D(pool_size=2)(batch2)\n",
    "drop2 = Dropout(0.3)(pool2)\n",
    "\n",
    "flatten = Flatten()(drop2)\n",
    "\n",
    "location_input = Input(shape=(X_train_loc.shape[1],), name='location_input')\n",
    "location_dense = Dense(32, activation='relu')(location_input)\n",
    "\n",
    "merged = concatenate([flatten, location_dense])\n",
    "\n",
    "dense1 = Dense(128, activation='relu')(merged)\n",
    "batch3 = BatchNormalization()(dense1)\n",
    "drop3 = Dropout(0.4)(batch3)\n",
    "\n",
    "dense2 = Dense(64, activation='relu')(drop3)\n",
    "batch4 = BatchNormalization()(dense2)\n",
    "drop4 = Dropout(0.4)(batch4)\n",
    "\n",
    "traffic_situation_output = Dense(\n",
    "    y_traffic_situation.shape[1], activation='softmax', name='traffic_situation_output'\n",
    ")(drop4)\n",
    "\n",
    "vehicle_counts_output = Dense(\n",
    "    len(vehicle_count_features), activation='relu', name='vehicle_counts_output'\n",
    ")(drop4)\n",
    "\n",
    "model = Model(\n",
    "    inputs=[numerical_input, location_input],\n",
    "    outputs=[traffic_situation_output, vehicle_counts_output]\n",
    ")"
   ]
  },
  {
   "cell_type": "code",
   "execution_count": 61,
   "id": "e0df052c",
   "metadata": {},
   "outputs": [
    {
     "name": "stdout",
     "output_type": "stream",
     "text": [
      "Model compiled successfully.\n"
     ]
    }
   ],
   "source": [
    "optimizer = Adam(learning_rate=0.001)\n",
    "model.compile(\n",
    "    optimizer=optimizer,\n",
    "    loss={\n",
    "        'traffic_situation_output': 'categorical_crossentropy', \n",
    "        'vehicle_counts_output': 'mse'                         \n",
    "    },\n",
    "    metrics={\n",
    "        'traffic_situation_output': ['accuracy'],             \n",
    "        'vehicle_counts_output': ['mae']                       \n",
    "    }\n",
    ")\n",
    "\n",
    "print(\"Model compiled successfully.\")"
   ]
  },
  {
   "cell_type": "code",
   "execution_count": 62,
   "id": "9711c4a8",
   "metadata": {},
   "outputs": [
    {
     "data": {
      "text/html": [
       "<pre style=\"white-space:pre;overflow-x:auto;line-height:normal;font-family:Menlo,'DejaVu Sans Mono',consolas,'Courier New',monospace\"><span style=\"font-weight: bold\">Model: \"functional_3\"</span>\n",
       "</pre>\n"
      ],
      "text/plain": [
       "\u001b[1mModel: \"functional_3\"\u001b[0m\n"
      ]
     },
     "metadata": {},
     "output_type": "display_data"
    },
    {
     "data": {
      "text/html": [
       "<pre style=\"white-space:pre;overflow-x:auto;line-height:normal;font-family:Menlo,'DejaVu Sans Mono',consolas,'Courier New',monospace\">┏━━━━━━━━━━━━━━━━━━━━━┳━━━━━━━━━━━━━━━━━━━┳━━━━━━━━━━━━┳━━━━━━━━━━━━━━━━━━━┓\n",
       "┃<span style=\"font-weight: bold\"> Layer (type)        </span>┃<span style=\"font-weight: bold\"> Output Shape      </span>┃<span style=\"font-weight: bold\">    Param # </span>┃<span style=\"font-weight: bold\"> Connected to      </span>┃\n",
       "┡━━━━━━━━━━━━━━━━━━━━━╇━━━━━━━━━━━━━━━━━━━╇━━━━━━━━━━━━╇━━━━━━━━━━━━━━━━━━━┩\n",
       "│ numerical_input     │ (<span style=\"color: #00d7ff; text-decoration-color: #00d7ff\">None</span>, <span style=\"color: #00af00; text-decoration-color: #00af00\">4</span>, <span style=\"color: #00af00; text-decoration-color: #00af00\">1</span>)      │          <span style=\"color: #00af00; text-decoration-color: #00af00\">0</span> │ -                 │\n",
       "│ (<span style=\"color: #0087ff; text-decoration-color: #0087ff\">InputLayer</span>)        │                   │            │                   │\n",
       "├─────────────────────┼───────────────────┼────────────┼───────────────────┤\n",
       "│ conv1d_6 (<span style=\"color: #0087ff; text-decoration-color: #0087ff\">Conv1D</span>)   │ (<span style=\"color: #00d7ff; text-decoration-color: #00d7ff\">None</span>, <span style=\"color: #00af00; text-decoration-color: #00af00\">4</span>, <span style=\"color: #00af00; text-decoration-color: #00af00\">64</span>)     │        <span style=\"color: #00af00; text-decoration-color: #00af00\">256</span> │ numerical_input[<span style=\"color: #00af00; text-decoration-color: #00af00\">…</span> │\n",
       "├─────────────────────┼───────────────────┼────────────┼───────────────────┤\n",
       "│ batch_normalizatio… │ (<span style=\"color: #00d7ff; text-decoration-color: #00d7ff\">None</span>, <span style=\"color: #00af00; text-decoration-color: #00af00\">4</span>, <span style=\"color: #00af00; text-decoration-color: #00af00\">64</span>)     │        <span style=\"color: #00af00; text-decoration-color: #00af00\">256</span> │ conv1d_6[<span style=\"color: #00af00; text-decoration-color: #00af00\">0</span>][<span style=\"color: #00af00; text-decoration-color: #00af00\">0</span>]    │\n",
       "│ (<span style=\"color: #0087ff; text-decoration-color: #0087ff\">BatchNormalizatio…</span> │                   │            │                   │\n",
       "├─────────────────────┼───────────────────┼────────────┼───────────────────┤\n",
       "│ max_pooling1d_6     │ (<span style=\"color: #00d7ff; text-decoration-color: #00d7ff\">None</span>, <span style=\"color: #00af00; text-decoration-color: #00af00\">2</span>, <span style=\"color: #00af00; text-decoration-color: #00af00\">64</span>)     │          <span style=\"color: #00af00; text-decoration-color: #00af00\">0</span> │ batch_normalizat… │\n",
       "│ (<span style=\"color: #0087ff; text-decoration-color: #0087ff\">MaxPooling1D</span>)      │                   │            │                   │\n",
       "├─────────────────────┼───────────────────┼────────────┼───────────────────┤\n",
       "│ dropout_12          │ (<span style=\"color: #00d7ff; text-decoration-color: #00d7ff\">None</span>, <span style=\"color: #00af00; text-decoration-color: #00af00\">2</span>, <span style=\"color: #00af00; text-decoration-color: #00af00\">64</span>)     │          <span style=\"color: #00af00; text-decoration-color: #00af00\">0</span> │ max_pooling1d_6[<span style=\"color: #00af00; text-decoration-color: #00af00\">…</span> │\n",
       "│ (<span style=\"color: #0087ff; text-decoration-color: #0087ff\">Dropout</span>)           │                   │            │                   │\n",
       "├─────────────────────┼───────────────────┼────────────┼───────────────────┤\n",
       "│ conv1d_7 (<span style=\"color: #0087ff; text-decoration-color: #0087ff\">Conv1D</span>)   │ (<span style=\"color: #00d7ff; text-decoration-color: #00d7ff\">None</span>, <span style=\"color: #00af00; text-decoration-color: #00af00\">2</span>, <span style=\"color: #00af00; text-decoration-color: #00af00\">128</span>)    │     <span style=\"color: #00af00; text-decoration-color: #00af00\">24,704</span> │ dropout_12[<span style=\"color: #00af00; text-decoration-color: #00af00\">0</span>][<span style=\"color: #00af00; text-decoration-color: #00af00\">0</span>]  │\n",
       "├─────────────────────┼───────────────────┼────────────┼───────────────────┤\n",
       "│ batch_normalizatio… │ (<span style=\"color: #00d7ff; text-decoration-color: #00d7ff\">None</span>, <span style=\"color: #00af00; text-decoration-color: #00af00\">2</span>, <span style=\"color: #00af00; text-decoration-color: #00af00\">128</span>)    │        <span style=\"color: #00af00; text-decoration-color: #00af00\">512</span> │ conv1d_7[<span style=\"color: #00af00; text-decoration-color: #00af00\">0</span>][<span style=\"color: #00af00; text-decoration-color: #00af00\">0</span>]    │\n",
       "│ (<span style=\"color: #0087ff; text-decoration-color: #0087ff\">BatchNormalizatio…</span> │                   │            │                   │\n",
       "├─────────────────────┼───────────────────┼────────────┼───────────────────┤\n",
       "│ max_pooling1d_7     │ (<span style=\"color: #00d7ff; text-decoration-color: #00d7ff\">None</span>, <span style=\"color: #00af00; text-decoration-color: #00af00\">1</span>, <span style=\"color: #00af00; text-decoration-color: #00af00\">128</span>)    │          <span style=\"color: #00af00; text-decoration-color: #00af00\">0</span> │ batch_normalizat… │\n",
       "│ (<span style=\"color: #0087ff; text-decoration-color: #0087ff\">MaxPooling1D</span>)      │                   │            │                   │\n",
       "├─────────────────────┼───────────────────┼────────────┼───────────────────┤\n",
       "│ dropout_13          │ (<span style=\"color: #00d7ff; text-decoration-color: #00d7ff\">None</span>, <span style=\"color: #00af00; text-decoration-color: #00af00\">1</span>, <span style=\"color: #00af00; text-decoration-color: #00af00\">128</span>)    │          <span style=\"color: #00af00; text-decoration-color: #00af00\">0</span> │ max_pooling1d_7[<span style=\"color: #00af00; text-decoration-color: #00af00\">…</span> │\n",
       "│ (<span style=\"color: #0087ff; text-decoration-color: #0087ff\">Dropout</span>)           │                   │            │                   │\n",
       "├─────────────────────┼───────────────────┼────────────┼───────────────────┤\n",
       "│ location_input      │ (<span style=\"color: #00d7ff; text-decoration-color: #00d7ff\">None</span>, <span style=\"color: #00af00; text-decoration-color: #00af00\">2</span>)         │          <span style=\"color: #00af00; text-decoration-color: #00af00\">0</span> │ -                 │\n",
       "│ (<span style=\"color: #0087ff; text-decoration-color: #0087ff\">InputLayer</span>)        │                   │            │                   │\n",
       "├─────────────────────┼───────────────────┼────────────┼───────────────────┤\n",
       "│ flatten_3 (<span style=\"color: #0087ff; text-decoration-color: #0087ff\">Flatten</span>) │ (<span style=\"color: #00d7ff; text-decoration-color: #00d7ff\">None</span>, <span style=\"color: #00af00; text-decoration-color: #00af00\">128</span>)       │          <span style=\"color: #00af00; text-decoration-color: #00af00\">0</span> │ dropout_13[<span style=\"color: #00af00; text-decoration-color: #00af00\">0</span>][<span style=\"color: #00af00; text-decoration-color: #00af00\">0</span>]  │\n",
       "├─────────────────────┼───────────────────┼────────────┼───────────────────┤\n",
       "│ dense_9 (<span style=\"color: #0087ff; text-decoration-color: #0087ff\">Dense</span>)     │ (<span style=\"color: #00d7ff; text-decoration-color: #00d7ff\">None</span>, <span style=\"color: #00af00; text-decoration-color: #00af00\">32</span>)        │         <span style=\"color: #00af00; text-decoration-color: #00af00\">96</span> │ location_input[<span style=\"color: #00af00; text-decoration-color: #00af00\">0</span>… │\n",
       "├─────────────────────┼───────────────────┼────────────┼───────────────────┤\n",
       "│ concatenate_3       │ (<span style=\"color: #00d7ff; text-decoration-color: #00d7ff\">None</span>, <span style=\"color: #00af00; text-decoration-color: #00af00\">160</span>)       │          <span style=\"color: #00af00; text-decoration-color: #00af00\">0</span> │ flatten_3[<span style=\"color: #00af00; text-decoration-color: #00af00\">0</span>][<span style=\"color: #00af00; text-decoration-color: #00af00\">0</span>],  │\n",
       "│ (<span style=\"color: #0087ff; text-decoration-color: #0087ff\">Concatenate</span>)       │                   │            │ dense_9[<span style=\"color: #00af00; text-decoration-color: #00af00\">0</span>][<span style=\"color: #00af00; text-decoration-color: #00af00\">0</span>]     │\n",
       "├─────────────────────┼───────────────────┼────────────┼───────────────────┤\n",
       "│ dense_10 (<span style=\"color: #0087ff; text-decoration-color: #0087ff\">Dense</span>)    │ (<span style=\"color: #00d7ff; text-decoration-color: #00d7ff\">None</span>, <span style=\"color: #00af00; text-decoration-color: #00af00\">128</span>)       │     <span style=\"color: #00af00; text-decoration-color: #00af00\">20,608</span> │ concatenate_3[<span style=\"color: #00af00; text-decoration-color: #00af00\">0</span>]… │\n",
       "├─────────────────────┼───────────────────┼────────────┼───────────────────┤\n",
       "│ batch_normalizatio… │ (<span style=\"color: #00d7ff; text-decoration-color: #00d7ff\">None</span>, <span style=\"color: #00af00; text-decoration-color: #00af00\">128</span>)       │        <span style=\"color: #00af00; text-decoration-color: #00af00\">512</span> │ dense_10[<span style=\"color: #00af00; text-decoration-color: #00af00\">0</span>][<span style=\"color: #00af00; text-decoration-color: #00af00\">0</span>]    │\n",
       "│ (<span style=\"color: #0087ff; text-decoration-color: #0087ff\">BatchNormalizatio…</span> │                   │            │                   │\n",
       "├─────────────────────┼───────────────────┼────────────┼───────────────────┤\n",
       "│ dropout_14          │ (<span style=\"color: #00d7ff; text-decoration-color: #00d7ff\">None</span>, <span style=\"color: #00af00; text-decoration-color: #00af00\">128</span>)       │          <span style=\"color: #00af00; text-decoration-color: #00af00\">0</span> │ batch_normalizat… │\n",
       "│ (<span style=\"color: #0087ff; text-decoration-color: #0087ff\">Dropout</span>)           │                   │            │                   │\n",
       "├─────────────────────┼───────────────────┼────────────┼───────────────────┤\n",
       "│ dense_11 (<span style=\"color: #0087ff; text-decoration-color: #0087ff\">Dense</span>)    │ (<span style=\"color: #00d7ff; text-decoration-color: #00d7ff\">None</span>, <span style=\"color: #00af00; text-decoration-color: #00af00\">64</span>)        │      <span style=\"color: #00af00; text-decoration-color: #00af00\">8,256</span> │ dropout_14[<span style=\"color: #00af00; text-decoration-color: #00af00\">0</span>][<span style=\"color: #00af00; text-decoration-color: #00af00\">0</span>]  │\n",
       "├─────────────────────┼───────────────────┼────────────┼───────────────────┤\n",
       "│ batch_normalizatio… │ (<span style=\"color: #00d7ff; text-decoration-color: #00d7ff\">None</span>, <span style=\"color: #00af00; text-decoration-color: #00af00\">64</span>)        │        <span style=\"color: #00af00; text-decoration-color: #00af00\">256</span> │ dense_11[<span style=\"color: #00af00; text-decoration-color: #00af00\">0</span>][<span style=\"color: #00af00; text-decoration-color: #00af00\">0</span>]    │\n",
       "│ (<span style=\"color: #0087ff; text-decoration-color: #0087ff\">BatchNormalizatio…</span> │                   │            │                   │\n",
       "├─────────────────────┼───────────────────┼────────────┼───────────────────┤\n",
       "│ dropout_15          │ (<span style=\"color: #00d7ff; text-decoration-color: #00d7ff\">None</span>, <span style=\"color: #00af00; text-decoration-color: #00af00\">64</span>)        │          <span style=\"color: #00af00; text-decoration-color: #00af00\">0</span> │ batch_normalizat… │\n",
       "│ (<span style=\"color: #0087ff; text-decoration-color: #0087ff\">Dropout</span>)           │                   │            │                   │\n",
       "├─────────────────────┼───────────────────┼────────────┼───────────────────┤\n",
       "│ traffic_situation_… │ (<span style=\"color: #00d7ff; text-decoration-color: #00d7ff\">None</span>, <span style=\"color: #00af00; text-decoration-color: #00af00\">4</span>)         │        <span style=\"color: #00af00; text-decoration-color: #00af00\">260</span> │ dropout_15[<span style=\"color: #00af00; text-decoration-color: #00af00\">0</span>][<span style=\"color: #00af00; text-decoration-color: #00af00\">0</span>]  │\n",
       "│ (<span style=\"color: #0087ff; text-decoration-color: #0087ff\">Dense</span>)             │                   │            │                   │\n",
       "├─────────────────────┼───────────────────┼────────────┼───────────────────┤\n",
       "│ vehicle_counts_out… │ (<span style=\"color: #00d7ff; text-decoration-color: #00d7ff\">None</span>, <span style=\"color: #00af00; text-decoration-color: #00af00\">4</span>)         │        <span style=\"color: #00af00; text-decoration-color: #00af00\">260</span> │ dropout_15[<span style=\"color: #00af00; text-decoration-color: #00af00\">0</span>][<span style=\"color: #00af00; text-decoration-color: #00af00\">0</span>]  │\n",
       "│ (<span style=\"color: #0087ff; text-decoration-color: #0087ff\">Dense</span>)             │                   │            │                   │\n",
       "└─────────────────────┴───────────────────┴────────────┴───────────────────┘\n",
       "</pre>\n"
      ],
      "text/plain": [
       "┏━━━━━━━━━━━━━━━━━━━━━┳━━━━━━━━━━━━━━━━━━━┳━━━━━━━━━━━━┳━━━━━━━━━━━━━━━━━━━┓\n",
       "┃\u001b[1m \u001b[0m\u001b[1mLayer (type)       \u001b[0m\u001b[1m \u001b[0m┃\u001b[1m \u001b[0m\u001b[1mOutput Shape     \u001b[0m\u001b[1m \u001b[0m┃\u001b[1m \u001b[0m\u001b[1m   Param #\u001b[0m\u001b[1m \u001b[0m┃\u001b[1m \u001b[0m\u001b[1mConnected to     \u001b[0m\u001b[1m \u001b[0m┃\n",
       "┡━━━━━━━━━━━━━━━━━━━━━╇━━━━━━━━━━━━━━━━━━━╇━━━━━━━━━━━━╇━━━━━━━━━━━━━━━━━━━┩\n",
       "│ numerical_input     │ (\u001b[38;5;45mNone\u001b[0m, \u001b[38;5;34m4\u001b[0m, \u001b[38;5;34m1\u001b[0m)      │          \u001b[38;5;34m0\u001b[0m │ -                 │\n",
       "│ (\u001b[38;5;33mInputLayer\u001b[0m)        │                   │            │                   │\n",
       "├─────────────────────┼───────────────────┼────────────┼───────────────────┤\n",
       "│ conv1d_6 (\u001b[38;5;33mConv1D\u001b[0m)   │ (\u001b[38;5;45mNone\u001b[0m, \u001b[38;5;34m4\u001b[0m, \u001b[38;5;34m64\u001b[0m)     │        \u001b[38;5;34m256\u001b[0m │ numerical_input[\u001b[38;5;34m…\u001b[0m │\n",
       "├─────────────────────┼───────────────────┼────────────┼───────────────────┤\n",
       "│ batch_normalizatio… │ (\u001b[38;5;45mNone\u001b[0m, \u001b[38;5;34m4\u001b[0m, \u001b[38;5;34m64\u001b[0m)     │        \u001b[38;5;34m256\u001b[0m │ conv1d_6[\u001b[38;5;34m0\u001b[0m][\u001b[38;5;34m0\u001b[0m]    │\n",
       "│ (\u001b[38;5;33mBatchNormalizatio…\u001b[0m │                   │            │                   │\n",
       "├─────────────────────┼───────────────────┼────────────┼───────────────────┤\n",
       "│ max_pooling1d_6     │ (\u001b[38;5;45mNone\u001b[0m, \u001b[38;5;34m2\u001b[0m, \u001b[38;5;34m64\u001b[0m)     │          \u001b[38;5;34m0\u001b[0m │ batch_normalizat… │\n",
       "│ (\u001b[38;5;33mMaxPooling1D\u001b[0m)      │                   │            │                   │\n",
       "├─────────────────────┼───────────────────┼────────────┼───────────────────┤\n",
       "│ dropout_12          │ (\u001b[38;5;45mNone\u001b[0m, \u001b[38;5;34m2\u001b[0m, \u001b[38;5;34m64\u001b[0m)     │          \u001b[38;5;34m0\u001b[0m │ max_pooling1d_6[\u001b[38;5;34m…\u001b[0m │\n",
       "│ (\u001b[38;5;33mDropout\u001b[0m)           │                   │            │                   │\n",
       "├─────────────────────┼───────────────────┼────────────┼───────────────────┤\n",
       "│ conv1d_7 (\u001b[38;5;33mConv1D\u001b[0m)   │ (\u001b[38;5;45mNone\u001b[0m, \u001b[38;5;34m2\u001b[0m, \u001b[38;5;34m128\u001b[0m)    │     \u001b[38;5;34m24,704\u001b[0m │ dropout_12[\u001b[38;5;34m0\u001b[0m][\u001b[38;5;34m0\u001b[0m]  │\n",
       "├─────────────────────┼───────────────────┼────────────┼───────────────────┤\n",
       "│ batch_normalizatio… │ (\u001b[38;5;45mNone\u001b[0m, \u001b[38;5;34m2\u001b[0m, \u001b[38;5;34m128\u001b[0m)    │        \u001b[38;5;34m512\u001b[0m │ conv1d_7[\u001b[38;5;34m0\u001b[0m][\u001b[38;5;34m0\u001b[0m]    │\n",
       "│ (\u001b[38;5;33mBatchNormalizatio…\u001b[0m │                   │            │                   │\n",
       "├─────────────────────┼───────────────────┼────────────┼───────────────────┤\n",
       "│ max_pooling1d_7     │ (\u001b[38;5;45mNone\u001b[0m, \u001b[38;5;34m1\u001b[0m, \u001b[38;5;34m128\u001b[0m)    │          \u001b[38;5;34m0\u001b[0m │ batch_normalizat… │\n",
       "│ (\u001b[38;5;33mMaxPooling1D\u001b[0m)      │                   │            │                   │\n",
       "├─────────────────────┼───────────────────┼────────────┼───────────────────┤\n",
       "│ dropout_13          │ (\u001b[38;5;45mNone\u001b[0m, \u001b[38;5;34m1\u001b[0m, \u001b[38;5;34m128\u001b[0m)    │          \u001b[38;5;34m0\u001b[0m │ max_pooling1d_7[\u001b[38;5;34m…\u001b[0m │\n",
       "│ (\u001b[38;5;33mDropout\u001b[0m)           │                   │            │                   │\n",
       "├─────────────────────┼───────────────────┼────────────┼───────────────────┤\n",
       "│ location_input      │ (\u001b[38;5;45mNone\u001b[0m, \u001b[38;5;34m2\u001b[0m)         │          \u001b[38;5;34m0\u001b[0m │ -                 │\n",
       "│ (\u001b[38;5;33mInputLayer\u001b[0m)        │                   │            │                   │\n",
       "├─────────────────────┼───────────────────┼────────────┼───────────────────┤\n",
       "│ flatten_3 (\u001b[38;5;33mFlatten\u001b[0m) │ (\u001b[38;5;45mNone\u001b[0m, \u001b[38;5;34m128\u001b[0m)       │          \u001b[38;5;34m0\u001b[0m │ dropout_13[\u001b[38;5;34m0\u001b[0m][\u001b[38;5;34m0\u001b[0m]  │\n",
       "├─────────────────────┼───────────────────┼────────────┼───────────────────┤\n",
       "│ dense_9 (\u001b[38;5;33mDense\u001b[0m)     │ (\u001b[38;5;45mNone\u001b[0m, \u001b[38;5;34m32\u001b[0m)        │         \u001b[38;5;34m96\u001b[0m │ location_input[\u001b[38;5;34m0\u001b[0m… │\n",
       "├─────────────────────┼───────────────────┼────────────┼───────────────────┤\n",
       "│ concatenate_3       │ (\u001b[38;5;45mNone\u001b[0m, \u001b[38;5;34m160\u001b[0m)       │          \u001b[38;5;34m0\u001b[0m │ flatten_3[\u001b[38;5;34m0\u001b[0m][\u001b[38;5;34m0\u001b[0m],  │\n",
       "│ (\u001b[38;5;33mConcatenate\u001b[0m)       │                   │            │ dense_9[\u001b[38;5;34m0\u001b[0m][\u001b[38;5;34m0\u001b[0m]     │\n",
       "├─────────────────────┼───────────────────┼────────────┼───────────────────┤\n",
       "│ dense_10 (\u001b[38;5;33mDense\u001b[0m)    │ (\u001b[38;5;45mNone\u001b[0m, \u001b[38;5;34m128\u001b[0m)       │     \u001b[38;5;34m20,608\u001b[0m │ concatenate_3[\u001b[38;5;34m0\u001b[0m]… │\n",
       "├─────────────────────┼───────────────────┼────────────┼───────────────────┤\n",
       "│ batch_normalizatio… │ (\u001b[38;5;45mNone\u001b[0m, \u001b[38;5;34m128\u001b[0m)       │        \u001b[38;5;34m512\u001b[0m │ dense_10[\u001b[38;5;34m0\u001b[0m][\u001b[38;5;34m0\u001b[0m]    │\n",
       "│ (\u001b[38;5;33mBatchNormalizatio…\u001b[0m │                   │            │                   │\n",
       "├─────────────────────┼───────────────────┼────────────┼───────────────────┤\n",
       "│ dropout_14          │ (\u001b[38;5;45mNone\u001b[0m, \u001b[38;5;34m128\u001b[0m)       │          \u001b[38;5;34m0\u001b[0m │ batch_normalizat… │\n",
       "│ (\u001b[38;5;33mDropout\u001b[0m)           │                   │            │                   │\n",
       "├─────────────────────┼───────────────────┼────────────┼───────────────────┤\n",
       "│ dense_11 (\u001b[38;5;33mDense\u001b[0m)    │ (\u001b[38;5;45mNone\u001b[0m, \u001b[38;5;34m64\u001b[0m)        │      \u001b[38;5;34m8,256\u001b[0m │ dropout_14[\u001b[38;5;34m0\u001b[0m][\u001b[38;5;34m0\u001b[0m]  │\n",
       "├─────────────────────┼───────────────────┼────────────┼───────────────────┤\n",
       "│ batch_normalizatio… │ (\u001b[38;5;45mNone\u001b[0m, \u001b[38;5;34m64\u001b[0m)        │        \u001b[38;5;34m256\u001b[0m │ dense_11[\u001b[38;5;34m0\u001b[0m][\u001b[38;5;34m0\u001b[0m]    │\n",
       "│ (\u001b[38;5;33mBatchNormalizatio…\u001b[0m │                   │            │                   │\n",
       "├─────────────────────┼───────────────────┼────────────┼───────────────────┤\n",
       "│ dropout_15          │ (\u001b[38;5;45mNone\u001b[0m, \u001b[38;5;34m64\u001b[0m)        │          \u001b[38;5;34m0\u001b[0m │ batch_normalizat… │\n",
       "│ (\u001b[38;5;33mDropout\u001b[0m)           │                   │            │                   │\n",
       "├─────────────────────┼───────────────────┼────────────┼───────────────────┤\n",
       "│ traffic_situation_… │ (\u001b[38;5;45mNone\u001b[0m, \u001b[38;5;34m4\u001b[0m)         │        \u001b[38;5;34m260\u001b[0m │ dropout_15[\u001b[38;5;34m0\u001b[0m][\u001b[38;5;34m0\u001b[0m]  │\n",
       "│ (\u001b[38;5;33mDense\u001b[0m)             │                   │            │                   │\n",
       "├─────────────────────┼───────────────────┼────────────┼───────────────────┤\n",
       "│ vehicle_counts_out… │ (\u001b[38;5;45mNone\u001b[0m, \u001b[38;5;34m4\u001b[0m)         │        \u001b[38;5;34m260\u001b[0m │ dropout_15[\u001b[38;5;34m0\u001b[0m][\u001b[38;5;34m0\u001b[0m]  │\n",
       "│ (\u001b[38;5;33mDense\u001b[0m)             │                   │            │                   │\n",
       "└─────────────────────┴───────────────────┴────────────┴───────────────────┘\n"
      ]
     },
     "metadata": {},
     "output_type": "display_data"
    },
    {
     "data": {
      "text/html": [
       "<pre style=\"white-space:pre;overflow-x:auto;line-height:normal;font-family:Menlo,'DejaVu Sans Mono',consolas,'Courier New',monospace\"><span style=\"font-weight: bold\"> Total params: </span><span style=\"color: #00af00; text-decoration-color: #00af00\">55,976</span> (218.66 KB)\n",
       "</pre>\n"
      ],
      "text/plain": [
       "\u001b[1m Total params: \u001b[0m\u001b[38;5;34m55,976\u001b[0m (218.66 KB)\n"
      ]
     },
     "metadata": {},
     "output_type": "display_data"
    },
    {
     "data": {
      "text/html": [
       "<pre style=\"white-space:pre;overflow-x:auto;line-height:normal;font-family:Menlo,'DejaVu Sans Mono',consolas,'Courier New',monospace\"><span style=\"font-weight: bold\"> Trainable params: </span><span style=\"color: #00af00; text-decoration-color: #00af00\">55,208</span> (215.66 KB)\n",
       "</pre>\n"
      ],
      "text/plain": [
       "\u001b[1m Trainable params: \u001b[0m\u001b[38;5;34m55,208\u001b[0m (215.66 KB)\n"
      ]
     },
     "metadata": {},
     "output_type": "display_data"
    },
    {
     "data": {
      "text/html": [
       "<pre style=\"white-space:pre;overflow-x:auto;line-height:normal;font-family:Menlo,'DejaVu Sans Mono',consolas,'Courier New',monospace\"><span style=\"font-weight: bold\"> Non-trainable params: </span><span style=\"color: #00af00; text-decoration-color: #00af00\">768</span> (3.00 KB)\n",
       "</pre>\n"
      ],
      "text/plain": [
       "\u001b[1m Non-trainable params: \u001b[0m\u001b[38;5;34m768\u001b[0m (3.00 KB)\n"
      ]
     },
     "metadata": {},
     "output_type": "display_data"
    }
   ],
   "source": [
    "model.summary()"
   ]
  },
  {
   "cell_type": "code",
   "execution_count": 63,
   "id": "3195cb3b",
   "metadata": {},
   "outputs": [
    {
     "name": "stdout",
     "output_type": "stream",
     "text": [
      "Starting model training...\n",
      "Epoch 1/100\n"
     ]
    },
    {
     "name": "stdout",
     "output_type": "stream",
     "text": [
      "\u001b[1m119/119\u001b[0m \u001b[32m━━━━━━━━━━━━━━━━━━━━\u001b[0m\u001b[37m\u001b[0m \u001b[1m5s\u001b[0m 10ms/step - loss: 1769.3263 - traffic_situation_output_accuracy: 0.3036 - traffic_situation_output_loss: 2.0387 - vehicle_counts_output_loss: 1767.2875 - vehicle_counts_output_mae: 26.4374 - val_loss: 1450.4517 - val_traffic_situation_output_accuracy: 0.5929 - val_traffic_situation_output_loss: 1.1772 - val_vehicle_counts_output_loss: 1449.3038 - val_vehicle_counts_output_mae: 23.4862\n",
      "Epoch 2/100\n",
      "\u001b[1m119/119\u001b[0m \u001b[32m━━━━━━━━━━━━━━━━━━━━\u001b[0m\u001b[37m\u001b[0m \u001b[1m1s\u001b[0m 6ms/step - loss: 1520.7039 - traffic_situation_output_accuracy: 0.3582 - traffic_situation_output_loss: 1.6251 - vehicle_counts_output_loss: 1519.0785 - vehicle_counts_output_mae: 23.8640 - val_loss: 817.5380 - val_traffic_situation_output_accuracy: 0.5247 - val_traffic_situation_output_loss: 1.2165 - val_vehicle_counts_output_loss: 816.4246 - val_vehicle_counts_output_mae: 20.3242\n",
      "Epoch 3/100\n",
      "\u001b[1m119/119\u001b[0m \u001b[32m━━━━━━━━━━━━━━━━━━━━\u001b[0m\u001b[37m\u001b[0m \u001b[1m1s\u001b[0m 6ms/step - loss: 1188.5327 - traffic_situation_output_accuracy: 0.4013 - traffic_situation_output_loss: 1.4802 - vehicle_counts_output_loss: 1187.0524 - vehicle_counts_output_mae: 20.7336 - val_loss: 722.8196 - val_traffic_situation_output_accuracy: 0.5929 - val_traffic_situation_output_loss: 1.1587 - val_vehicle_counts_output_loss: 722.1581 - val_vehicle_counts_output_mae: 20.3983\n",
      "Epoch 4/100\n",
      "\u001b[1m119/119\u001b[0m \u001b[32m━━━━━━━━━━━━━━━━━━━━\u001b[0m\u001b[37m\u001b[0m \u001b[1m1s\u001b[0m 6ms/step - loss: 874.8318 - traffic_situation_output_accuracy: 0.4269 - traffic_situation_output_loss: 1.3693 - vehicle_counts_output_loss: 873.4626 - vehicle_counts_output_mae: 18.0687 - val_loss: 674.1891 - val_traffic_situation_output_accuracy: 0.3232 - val_traffic_situation_output_loss: 1.2157 - val_vehicle_counts_output_loss: 673.6862 - val_vehicle_counts_output_mae: 18.9749\n",
      "Epoch 5/100\n",
      "\u001b[1m119/119\u001b[0m \u001b[32m━━━━━━━━━━━━━━━━━━━━\u001b[0m\u001b[37m\u001b[0m \u001b[1m2s\u001b[0m 14ms/step - loss: 654.6677 - traffic_situation_output_accuracy: 0.4696 - traffic_situation_output_loss: 1.2616 - vehicle_counts_output_loss: 653.4061 - vehicle_counts_output_mae: 16.3622 - val_loss: 518.1973 - val_traffic_situation_output_accuracy: 0.6034 - val_traffic_situation_output_loss: 1.0911 - val_vehicle_counts_output_loss: 517.6635 - val_vehicle_counts_output_mae: 15.8688\n",
      "Epoch 6/100\n",
      "\u001b[1m119/119\u001b[0m \u001b[32m━━━━━━━━━━━━━━━━━━━━\u001b[0m\u001b[37m\u001b[0m \u001b[1m2s\u001b[0m 15ms/step - loss: 581.4421 - traffic_situation_output_accuracy: 0.4832 - traffic_situation_output_loss: 1.1753 - vehicle_counts_output_loss: 580.2665 - vehicle_counts_output_mae: 15.7869 - val_loss: 407.8236 - val_traffic_situation_output_accuracy: 0.5929 - val_traffic_situation_output_loss: 1.0673 - val_vehicle_counts_output_loss: 407.3689 - val_vehicle_counts_output_mae: 14.1634\n",
      "Epoch 7/100\n",
      "\u001b[1m119/119\u001b[0m \u001b[32m━━━━━━━━━━━━━━━━━━━━\u001b[0m\u001b[37m\u001b[0m \u001b[1m2s\u001b[0m 16ms/step - loss: 515.2383 - traffic_situation_output_accuracy: 0.5504 - traffic_situation_output_loss: 1.1177 - vehicle_counts_output_loss: 514.1205 - vehicle_counts_output_mae: 15.0954 - val_loss: 369.2781 - val_traffic_situation_output_accuracy: 0.6159 - val_traffic_situation_output_loss: 1.0409 - val_vehicle_counts_output_loss: 368.5951 - val_vehicle_counts_output_mae: 13.2341\n",
      "Epoch 8/100\n",
      "\u001b[1m119/119\u001b[0m \u001b[32m━━━━━━━━━━━━━━━━━━━━\u001b[0m\u001b[37m\u001b[0m \u001b[1m1s\u001b[0m 10ms/step - loss: 504.0266 - traffic_situation_output_accuracy: 0.5897 - traffic_situation_output_loss: 1.0534 - vehicle_counts_output_loss: 502.9732 - vehicle_counts_output_mae: 14.8499 - val_loss: 426.8408 - val_traffic_situation_output_accuracy: 0.6139 - val_traffic_situation_output_loss: 1.0458 - val_vehicle_counts_output_loss: 425.9845 - val_vehicle_counts_output_mae: 14.5209\n",
      "Epoch 9/100\n",
      "\u001b[1m119/119\u001b[0m \u001b[32m━━━━━━━━━━━━━━━━━━━━\u001b[0m\u001b[37m\u001b[0m \u001b[1m1s\u001b[0m 5ms/step - loss: 496.8191 - traffic_situation_output_accuracy: 0.5770 - traffic_situation_output_loss: 1.0486 - vehicle_counts_output_loss: 495.7706 - vehicle_counts_output_mae: 14.9013 - val_loss: 351.9736 - val_traffic_situation_output_accuracy: 0.5950 - val_traffic_situation_output_loss: 0.9998 - val_vehicle_counts_output_loss: 351.1831 - val_vehicle_counts_output_mae: 12.7944\n",
      "Epoch 10/100\n",
      "\u001b[1m119/119\u001b[0m \u001b[32m━━━━━━━━━━━━━━━━━━━━\u001b[0m\u001b[37m\u001b[0m \u001b[1m1s\u001b[0m 7ms/step - loss: 486.5693 - traffic_situation_output_accuracy: 0.6040 - traffic_situation_output_loss: 1.0326 - vehicle_counts_output_loss: 485.5367 - vehicle_counts_output_mae: 14.7185 - val_loss: 341.7608 - val_traffic_situation_output_accuracy: 0.6128 - val_traffic_situation_output_loss: 0.9850 - val_vehicle_counts_output_loss: 341.1959 - val_vehicle_counts_output_mae: 12.5069\n",
      "Epoch 11/100\n",
      "\u001b[1m119/119\u001b[0m \u001b[32m━━━━━━━━━━━━━━━━━━━━\u001b[0m\u001b[37m\u001b[0m \u001b[1m1s\u001b[0m 5ms/step - loss: 468.1884 - traffic_situation_output_accuracy: 0.6068 - traffic_situation_output_loss: 1.0120 - vehicle_counts_output_loss: 467.1763 - vehicle_counts_output_mae: 14.6344 - val_loss: 356.2653 - val_traffic_situation_output_accuracy: 0.6537 - val_traffic_situation_output_loss: 0.9834 - val_vehicle_counts_output_loss: 355.8023 - val_vehicle_counts_output_mae: 13.0222\n",
      "Epoch 12/100\n",
      "\u001b[1m119/119\u001b[0m \u001b[32m━━━━━━━━━━━━━━━━━━━━\u001b[0m\u001b[37m\u001b[0m \u001b[1m1s\u001b[0m 6ms/step - loss: 449.6700 - traffic_situation_output_accuracy: 0.6110 - traffic_situation_output_loss: 0.9861 - vehicle_counts_output_loss: 448.6839 - vehicle_counts_output_mae: 14.3002 - val_loss: 335.9423 - val_traffic_situation_output_accuracy: 0.6590 - val_traffic_situation_output_loss: 0.9751 - val_vehicle_counts_output_loss: 335.2582 - val_vehicle_counts_output_mae: 12.4922\n",
      "Epoch 13/100\n",
      "\u001b[1m119/119\u001b[0m \u001b[32m━━━━━━━━━━━━━━━━━━━━\u001b[0m\u001b[37m\u001b[0m \u001b[1m1s\u001b[0m 6ms/step - loss: 446.8140 - traffic_situation_output_accuracy: 0.5846 - traffic_situation_output_loss: 1.0060 - vehicle_counts_output_loss: 445.8080 - vehicle_counts_output_mae: 14.1543 - val_loss: 333.0201 - val_traffic_situation_output_accuracy: 0.5929 - val_traffic_situation_output_loss: 0.9542 - val_vehicle_counts_output_loss: 332.5403 - val_vehicle_counts_output_mae: 12.1724\n",
      "Epoch 14/100\n",
      "\u001b[1m119/119\u001b[0m \u001b[32m━━━━━━━━━━━━━━━━━━━━\u001b[0m\u001b[37m\u001b[0m \u001b[1m1s\u001b[0m 5ms/step - loss: 444.4210 - traffic_situation_output_accuracy: 0.6075 - traffic_situation_output_loss: 0.9983 - vehicle_counts_output_loss: 443.4226 - vehicle_counts_output_mae: 14.1157 - val_loss: 328.8887 - val_traffic_situation_output_accuracy: 0.6621 - val_traffic_situation_output_loss: 0.9428 - val_vehicle_counts_output_loss: 328.3363 - val_vehicle_counts_output_mae: 12.2197\n",
      "Epoch 15/100\n",
      "\u001b[1m119/119\u001b[0m \u001b[32m━━━━━━━━━━━━━━━━━━━━\u001b[0m\u001b[37m\u001b[0m \u001b[1m1s\u001b[0m 6ms/step - loss: 437.6794 - traffic_situation_output_accuracy: 0.6162 - traffic_situation_output_loss: 0.9741 - vehicle_counts_output_loss: 436.7054 - vehicle_counts_output_mae: 14.0909 - val_loss: 318.0324 - val_traffic_situation_output_accuracy: 0.6097 - val_traffic_situation_output_loss: 0.9408 - val_vehicle_counts_output_loss: 317.2391 - val_vehicle_counts_output_mae: 12.1602\n",
      "Epoch 16/100\n",
      "\u001b[1m119/119\u001b[0m \u001b[32m━━━━━━━━━━━━━━━━━━━━\u001b[0m\u001b[37m\u001b[0m \u001b[1m1s\u001b[0m 6ms/step - loss: 409.6609 - traffic_situation_output_accuracy: 0.6241 - traffic_situation_output_loss: 0.9642 - vehicle_counts_output_loss: 408.6968 - vehicle_counts_output_mae: 13.6704 - val_loss: 325.8137 - val_traffic_situation_output_accuracy: 0.6653 - val_traffic_situation_output_loss: 0.9264 - val_vehicle_counts_output_loss: 325.2468 - val_vehicle_counts_output_mae: 11.9424\n",
      "Epoch 17/100\n",
      "\u001b[1m119/119\u001b[0m \u001b[32m━━━━━━━━━━━━━━━━━━━━\u001b[0m\u001b[37m\u001b[0m \u001b[1m1s\u001b[0m 6ms/step - loss: 416.0226 - traffic_situation_output_accuracy: 0.6129 - traffic_situation_output_loss: 0.9689 - vehicle_counts_output_loss: 415.0536 - vehicle_counts_output_mae: 13.7879 - val_loss: 321.5733 - val_traffic_situation_output_accuracy: 0.6600 - val_traffic_situation_output_loss: 0.9322 - val_vehicle_counts_output_loss: 320.9267 - val_vehicle_counts_output_mae: 11.9521\n",
      "Epoch 18/100\n",
      "\u001b[1m119/119\u001b[0m \u001b[32m━━━━━━━━━━━━━━━━━━━━\u001b[0m\u001b[37m\u001b[0m \u001b[1m1s\u001b[0m 6ms/step - loss: 399.8930 - traffic_situation_output_accuracy: 0.6254 - traffic_situation_output_loss: 0.9381 - vehicle_counts_output_loss: 398.9549 - vehicle_counts_output_mae: 13.5417 - val_loss: 302.7458 - val_traffic_situation_output_accuracy: 0.6674 - val_traffic_situation_output_loss: 0.9086 - val_vehicle_counts_output_loss: 302.3915 - val_vehicle_counts_output_mae: 11.6412\n",
      "Epoch 19/100\n",
      "\u001b[1m119/119\u001b[0m \u001b[32m━━━━━━━━━━━━━━━━━━━━\u001b[0m\u001b[37m\u001b[0m \u001b[1m1s\u001b[0m 6ms/step - loss: 398.2154 - traffic_situation_output_accuracy: 0.6395 - traffic_situation_output_loss: 0.9352 - vehicle_counts_output_loss: 397.2802 - vehicle_counts_output_mae: 13.4864 - val_loss: 301.2640 - val_traffic_situation_output_accuracy: 0.6758 - val_traffic_situation_output_loss: 0.9011 - val_vehicle_counts_output_loss: 300.8123 - val_vehicle_counts_output_mae: 11.5714\n",
      "Epoch 20/100\n",
      "\u001b[1m119/119\u001b[0m \u001b[32m━━━━━━━━━━━━━━━━━━━━\u001b[0m\u001b[37m\u001b[0m \u001b[1m1s\u001b[0m 8ms/step - loss: 399.5285 - traffic_situation_output_accuracy: 0.6321 - traffic_situation_output_loss: 0.9612 - vehicle_counts_output_loss: 398.5673 - vehicle_counts_output_mae: 13.4758 - val_loss: 297.5082 - val_traffic_situation_output_accuracy: 0.6684 - val_traffic_situation_output_loss: 0.9091 - val_vehicle_counts_output_loss: 297.0795 - val_vehicle_counts_output_mae: 11.5150\n",
      "Epoch 21/100\n",
      "\u001b[1m119/119\u001b[0m \u001b[32m━━━━━━━━━━━━━━━━━━━━\u001b[0m\u001b[37m\u001b[0m \u001b[1m2s\u001b[0m 16ms/step - loss: 400.1049 - traffic_situation_output_accuracy: 0.6177 - traffic_situation_output_loss: 0.9686 - vehicle_counts_output_loss: 399.1363 - vehicle_counts_output_mae: 13.3433 - val_loss: 291.9691 - val_traffic_situation_output_accuracy: 0.6684 - val_traffic_situation_output_loss: 0.8919 - val_vehicle_counts_output_loss: 291.5258 - val_vehicle_counts_output_mae: 11.3332\n",
      "Epoch 22/100\n",
      "\u001b[1m119/119\u001b[0m \u001b[32m━━━━━━━━━━━━━━━━━━━━\u001b[0m\u001b[37m\u001b[0m \u001b[1m2s\u001b[0m 16ms/step - loss: 394.2287 - traffic_situation_output_accuracy: 0.6083 - traffic_situation_output_loss: 0.9698 - vehicle_counts_output_loss: 393.2589 - vehicle_counts_output_mae: 13.3101 - val_loss: 280.2162 - val_traffic_situation_output_accuracy: 0.6516 - val_traffic_situation_output_loss: 0.8990 - val_vehicle_counts_output_loss: 279.6091 - val_vehicle_counts_output_mae: 11.1819\n",
      "Epoch 23/100\n",
      "\u001b[1m119/119\u001b[0m \u001b[32m━━━━━━━━━━━━━━━━━━━━\u001b[0m\u001b[37m\u001b[0m \u001b[1m2s\u001b[0m 17ms/step - loss: 373.3816 - traffic_situation_output_accuracy: 0.6291 - traffic_situation_output_loss: 0.9429 - vehicle_counts_output_loss: 372.4387 - vehicle_counts_output_mae: 12.8906 - val_loss: 266.5918 - val_traffic_situation_output_accuracy: 0.6621 - val_traffic_situation_output_loss: 0.8874 - val_vehicle_counts_output_loss: 266.1064 - val_vehicle_counts_output_mae: 10.9761\n",
      "Epoch 24/100\n",
      "\u001b[1m119/119\u001b[0m \u001b[32m━━━━━━━━━━━━━━━━━━━━\u001b[0m\u001b[37m\u001b[0m \u001b[1m2s\u001b[0m 16ms/step - loss: 372.3469 - traffic_situation_output_accuracy: 0.6424 - traffic_situation_output_loss: 0.9306 - vehicle_counts_output_loss: 371.4162 - vehicle_counts_output_mae: 12.8378 - val_loss: 268.1205 - val_traffic_situation_output_accuracy: 0.6716 - val_traffic_situation_output_loss: 0.8703 - val_vehicle_counts_output_loss: 267.9715 - val_vehicle_counts_output_mae: 10.8857\n",
      "Epoch 25/100\n",
      "\u001b[1m119/119\u001b[0m \u001b[32m━━━━━━━━━━━━━━━━━━━━\u001b[0m\u001b[37m\u001b[0m \u001b[1m2s\u001b[0m 16ms/step - loss: 368.6772 - traffic_situation_output_accuracy: 0.6411 - traffic_situation_output_loss: 0.9271 - vehicle_counts_output_loss: 367.7502 - vehicle_counts_output_mae: 12.7774 - val_loss: 263.7422 - val_traffic_situation_output_accuracy: 0.6338 - val_traffic_situation_output_loss: 0.8901 - val_vehicle_counts_output_loss: 263.2634 - val_vehicle_counts_output_mae: 10.8321\n",
      "Epoch 26/100\n",
      "\u001b[1m119/119\u001b[0m \u001b[32m━━━━━━━━━━━━━━━━━━━━\u001b[0m\u001b[37m\u001b[0m \u001b[1m2s\u001b[0m 16ms/step - loss: 360.4695 - traffic_situation_output_accuracy: 0.6382 - traffic_situation_output_loss: 0.9368 - vehicle_counts_output_loss: 359.5327 - vehicle_counts_output_mae: 12.6789 - val_loss: 283.5849 - val_traffic_situation_output_accuracy: 0.6527 - val_traffic_situation_output_loss: 0.8966 - val_vehicle_counts_output_loss: 282.7734 - val_vehicle_counts_output_mae: 11.0614\n",
      "Epoch 27/100\n",
      "\u001b[1m119/119\u001b[0m \u001b[32m━━━━━━━━━━━━━━━━━━━━\u001b[0m\u001b[37m\u001b[0m \u001b[1m2s\u001b[0m 17ms/step - loss: 382.6787 - traffic_situation_output_accuracy: 0.6212 - traffic_situation_output_loss: 0.9563 - vehicle_counts_output_loss: 381.7224 - vehicle_counts_output_mae: 12.8659 - val_loss: 255.6131 - val_traffic_situation_output_accuracy: 0.6716 - val_traffic_situation_output_loss: 0.8748 - val_vehicle_counts_output_loss: 255.1511 - val_vehicle_counts_output_mae: 10.7210\n",
      "Epoch 28/100\n",
      "\u001b[1m119/119\u001b[0m \u001b[32m━━━━━━━━━━━━━━━━━━━━\u001b[0m\u001b[37m\u001b[0m \u001b[1m1s\u001b[0m 6ms/step - loss: 346.9892 - traffic_situation_output_accuracy: 0.6358 - traffic_situation_output_loss: 0.9312 - vehicle_counts_output_loss: 346.0579 - vehicle_counts_output_mae: 12.4732 - val_loss: 259.0170 - val_traffic_situation_output_accuracy: 0.6684 - val_traffic_situation_output_loss: 0.8735 - val_vehicle_counts_output_loss: 258.4186 - val_vehicle_counts_output_mae: 10.8420\n",
      "Epoch 29/100\n",
      "\u001b[1m119/119\u001b[0m \u001b[32m━━━━━━━━━━━━━━━━━━━━\u001b[0m\u001b[37m\u001b[0m \u001b[1m1s\u001b[0m 5ms/step - loss: 357.3534 - traffic_situation_output_accuracy: 0.6315 - traffic_situation_output_loss: 0.9363 - vehicle_counts_output_loss: 356.4170 - vehicle_counts_output_mae: 12.4756 - val_loss: 257.7828 - val_traffic_situation_output_accuracy: 0.6810 - val_traffic_situation_output_loss: 0.8647 - val_vehicle_counts_output_loss: 257.1398 - val_vehicle_counts_output_mae: 10.6206\n",
      "Epoch 30/100\n",
      "\u001b[1m119/119\u001b[0m \u001b[32m━━━━━━━━━━━━━━━━━━━━\u001b[0m\u001b[37m\u001b[0m \u001b[1m1s\u001b[0m 6ms/step - loss: 339.2062 - traffic_situation_output_accuracy: 0.6484 - traffic_situation_output_loss: 0.9063 - vehicle_counts_output_loss: 338.2999 - vehicle_counts_output_mae: 12.2980 - val_loss: 264.0921 - val_traffic_situation_output_accuracy: 0.6779 - val_traffic_situation_output_loss: 0.8533 - val_vehicle_counts_output_loss: 263.5045 - val_vehicle_counts_output_mae: 10.6661\n",
      "Epoch 31/100\n",
      "\u001b[1m119/119\u001b[0m \u001b[32m━━━━━━━━━━━━━━━━━━━━\u001b[0m\u001b[37m\u001b[0m \u001b[1m1s\u001b[0m 6ms/step - loss: 335.4533 - traffic_situation_output_accuracy: 0.6364 - traffic_situation_output_loss: 0.9142 - vehicle_counts_output_loss: 334.5391 - vehicle_counts_output_mae: 12.2570 - val_loss: 252.2100 - val_traffic_situation_output_accuracy: 0.6831 - val_traffic_situation_output_loss: 0.8352 - val_vehicle_counts_output_loss: 251.6727 - val_vehicle_counts_output_mae: 10.4958\n",
      "Epoch 32/100\n",
      "\u001b[1m119/119\u001b[0m \u001b[32m━━━━━━━━━━━━━━━━━━━━\u001b[0m\u001b[37m\u001b[0m \u001b[1m1s\u001b[0m 6ms/step - loss: 350.4080 - traffic_situation_output_accuracy: 0.6337 - traffic_situation_output_loss: 0.9244 - vehicle_counts_output_loss: 349.4836 - vehicle_counts_output_mae: 12.4866 - val_loss: 259.4303 - val_traffic_situation_output_accuracy: 0.6621 - val_traffic_situation_output_loss: 0.8553 - val_vehicle_counts_output_loss: 258.8531 - val_vehicle_counts_output_mae: 10.6903\n",
      "Epoch 33/100\n",
      "\u001b[1m119/119\u001b[0m \u001b[32m━━━━━━━━━━━━━━━━━━━━\u001b[0m\u001b[37m\u001b[0m \u001b[1m1s\u001b[0m 6ms/step - loss: 340.2136 - traffic_situation_output_accuracy: 0.6478 - traffic_situation_output_loss: 0.9186 - vehicle_counts_output_loss: 339.2950 - vehicle_counts_output_mae: 12.3027 - val_loss: 244.2119 - val_traffic_situation_output_accuracy: 0.6884 - val_traffic_situation_output_loss: 0.8509 - val_vehicle_counts_output_loss: 243.6456 - val_vehicle_counts_output_mae: 10.3218\n",
      "Epoch 34/100\n",
      "\u001b[1m119/119\u001b[0m \u001b[32m━━━━━━━━━━━━━━━━━━━━\u001b[0m\u001b[37m\u001b[0m \u001b[1m1s\u001b[0m 5ms/step - loss: 337.1335 - traffic_situation_output_accuracy: 0.6351 - traffic_situation_output_loss: 0.9239 - vehicle_counts_output_loss: 336.2096 - vehicle_counts_output_mae: 12.0771 - val_loss: 235.3216 - val_traffic_situation_output_accuracy: 0.6863 - val_traffic_situation_output_loss: 0.8418 - val_vehicle_counts_output_loss: 234.8482 - val_vehicle_counts_output_mae: 10.2469\n",
      "Epoch 35/100\n",
      "\u001b[1m119/119\u001b[0m \u001b[32m━━━━━━━━━━━━━━━━━━━━\u001b[0m\u001b[37m\u001b[0m \u001b[1m1s\u001b[0m 6ms/step - loss: 320.6617 - traffic_situation_output_accuracy: 0.6348 - traffic_situation_output_loss: 0.9265 - vehicle_counts_output_loss: 319.7352 - vehicle_counts_output_mae: 11.8782 - val_loss: 227.4732 - val_traffic_situation_output_accuracy: 0.6716 - val_traffic_situation_output_loss: 0.8565 - val_vehicle_counts_output_loss: 226.9543 - val_vehicle_counts_output_mae: 10.0677\n",
      "Epoch 36/100\n",
      "\u001b[1m119/119\u001b[0m \u001b[32m━━━━━━━━━━━━━━━━━━━━\u001b[0m\u001b[37m\u001b[0m \u001b[1m1s\u001b[0m 5ms/step - loss: 324.5047 - traffic_situation_output_accuracy: 0.6509 - traffic_situation_output_loss: 0.9136 - vehicle_counts_output_loss: 323.5911 - vehicle_counts_output_mae: 11.7064 - val_loss: 262.0919 - val_traffic_situation_output_accuracy: 0.6317 - val_traffic_situation_output_loss: 0.8901 - val_vehicle_counts_output_loss: 261.4379 - val_vehicle_counts_output_mae: 10.6852\n",
      "Epoch 37/100\n",
      "\u001b[1m119/119\u001b[0m \u001b[32m━━━━━━━━━━━━━━━━━━━━\u001b[0m\u001b[37m\u001b[0m \u001b[1m1s\u001b[0m 6ms/step - loss: 340.8210 - traffic_situation_output_accuracy: 0.6444 - traffic_situation_output_loss: 0.9167 - vehicle_counts_output_loss: 339.9043 - vehicle_counts_output_mae: 12.0397 - val_loss: 236.2174 - val_traffic_situation_output_accuracy: 0.6768 - val_traffic_situation_output_loss: 0.8460 - val_vehicle_counts_output_loss: 235.6330 - val_vehicle_counts_output_mae: 10.1272\n",
      "Epoch 38/100\n",
      "\u001b[1m119/119\u001b[0m \u001b[32m━━━━━━━━━━━━━━━━━━━━\u001b[0m\u001b[37m\u001b[0m \u001b[1m1s\u001b[0m 6ms/step - loss: 304.1425 - traffic_situation_output_accuracy: 0.6485 - traffic_situation_output_loss: 0.9137 - vehicle_counts_output_loss: 303.2287 - vehicle_counts_output_mae: 11.4756 - val_loss: 212.3301 - val_traffic_situation_output_accuracy: 0.6863 - val_traffic_situation_output_loss: 0.8274 - val_vehicle_counts_output_loss: 211.8126 - val_vehicle_counts_output_mae: 9.6378\n",
      "Epoch 39/100\n",
      "\u001b[1m119/119\u001b[0m \u001b[32m━━━━━━━━━━━━━━━━━━━━\u001b[0m\u001b[37m\u001b[0m \u001b[1m1s\u001b[0m 5ms/step - loss: 331.7851 - traffic_situation_output_accuracy: 0.6459 - traffic_situation_output_loss: 0.9127 - vehicle_counts_output_loss: 330.8724 - vehicle_counts_output_mae: 11.7949 - val_loss: 220.9102 - val_traffic_situation_output_accuracy: 0.6957 - val_traffic_situation_output_loss: 0.8379 - val_vehicle_counts_output_loss: 220.2993 - val_vehicle_counts_output_mae: 9.5738\n",
      "Epoch 40/100\n",
      "\u001b[1m119/119\u001b[0m \u001b[32m━━━━━━━━━━━━━━━━━━━━\u001b[0m\u001b[37m\u001b[0m \u001b[1m1s\u001b[0m 5ms/step - loss: 309.1581 - traffic_situation_output_accuracy: 0.6512 - traffic_situation_output_loss: 0.9063 - vehicle_counts_output_loss: 308.2517 - vehicle_counts_output_mae: 11.4776 - val_loss: 218.2603 - val_traffic_situation_output_accuracy: 0.6600 - val_traffic_situation_output_loss: 0.8509 - val_vehicle_counts_output_loss: 217.5174 - val_vehicle_counts_output_mae: 9.7760\n",
      "Epoch 41/100\n",
      "\u001b[1m119/119\u001b[0m \u001b[32m━━━━━━━━━━━━━━━━━━━━\u001b[0m\u001b[37m\u001b[0m \u001b[1m1s\u001b[0m 5ms/step - loss: 296.5803 - traffic_situation_output_accuracy: 0.6442 - traffic_situation_output_loss: 0.9017 - vehicle_counts_output_loss: 295.6786 - vehicle_counts_output_mae: 11.2210 - val_loss: 206.5258 - val_traffic_situation_output_accuracy: 0.6821 - val_traffic_situation_output_loss: 0.8237 - val_vehicle_counts_output_loss: 206.0871 - val_vehicle_counts_output_mae: 9.3229\n",
      "Epoch 42/100\n",
      "\u001b[1m119/119\u001b[0m \u001b[32m━━━━━━━━━━━━━━━━━━━━\u001b[0m\u001b[37m\u001b[0m \u001b[1m1s\u001b[0m 5ms/step - loss: 299.2655 - traffic_situation_output_accuracy: 0.6403 - traffic_situation_output_loss: 0.9178 - vehicle_counts_output_loss: 298.3477 - vehicle_counts_output_mae: 11.2172 - val_loss: 199.8933 - val_traffic_situation_output_accuracy: 0.6779 - val_traffic_situation_output_loss: 0.8305 - val_vehicle_counts_output_loss: 199.2360 - val_vehicle_counts_output_mae: 9.3843\n",
      "Epoch 43/100\n",
      "\u001b[1m119/119\u001b[0m \u001b[32m━━━━━━━━━━━━━━━━━━━━\u001b[0m\u001b[37m\u001b[0m \u001b[1m1s\u001b[0m 5ms/step - loss: 287.6269 - traffic_situation_output_accuracy: 0.6475 - traffic_situation_output_loss: 0.9012 - vehicle_counts_output_loss: 286.7256 - vehicle_counts_output_mae: 10.9821 - val_loss: 216.1555 - val_traffic_situation_output_accuracy: 0.6716 - val_traffic_situation_output_loss: 0.8296 - val_vehicle_counts_output_loss: 215.4520 - val_vehicle_counts_output_mae: 9.4509\n",
      "Epoch 44/100\n",
      "\u001b[1m119/119\u001b[0m \u001b[32m━━━━━━━━━━━━━━━━━━━━\u001b[0m\u001b[37m\u001b[0m \u001b[1m1s\u001b[0m 6ms/step - loss: 297.2815 - traffic_situation_output_accuracy: 0.6652 - traffic_situation_output_loss: 0.8741 - vehicle_counts_output_loss: 296.4073 - vehicle_counts_output_mae: 11.1723 - val_loss: 201.5538 - val_traffic_situation_output_accuracy: 0.6821 - val_traffic_situation_output_loss: 0.8224 - val_vehicle_counts_output_loss: 201.0206 - val_vehicle_counts_output_mae: 9.2491\n",
      "Epoch 45/100\n",
      "\u001b[1m119/119\u001b[0m \u001b[32m━━━━━━━━━━━━━━━━━━━━\u001b[0m\u001b[37m\u001b[0m \u001b[1m1s\u001b[0m 6ms/step - loss: 298.1316 - traffic_situation_output_accuracy: 0.6441 - traffic_situation_output_loss: 0.9017 - vehicle_counts_output_loss: 297.2298 - vehicle_counts_output_mae: 11.2143 - val_loss: 187.5259 - val_traffic_situation_output_accuracy: 0.6978 - val_traffic_situation_output_loss: 0.8001 - val_vehicle_counts_output_loss: 187.0502 - val_vehicle_counts_output_mae: 8.9052\n",
      "Epoch 46/100\n",
      "\u001b[1m119/119\u001b[0m \u001b[32m━━━━━━━━━━━━━━━━━━━━\u001b[0m\u001b[37m\u001b[0m \u001b[1m1s\u001b[0m 5ms/step - loss: 286.3264 - traffic_situation_output_accuracy: 0.6438 - traffic_situation_output_loss: 0.8920 - vehicle_counts_output_loss: 285.4343 - vehicle_counts_output_mae: 10.8989 - val_loss: 184.3754 - val_traffic_situation_output_accuracy: 0.6957 - val_traffic_situation_output_loss: 0.8133 - val_vehicle_counts_output_loss: 183.8595 - val_vehicle_counts_output_mae: 8.9959\n",
      "Epoch 47/100\n",
      "\u001b[1m119/119\u001b[0m \u001b[32m━━━━━━━━━━━━━━━━━━━━\u001b[0m\u001b[37m\u001b[0m \u001b[1m1s\u001b[0m 6ms/step - loss: 301.5937 - traffic_situation_output_accuracy: 0.6469 - traffic_situation_output_loss: 0.8894 - vehicle_counts_output_loss: 300.7043 - vehicle_counts_output_mae: 11.2195 - val_loss: 196.6059 - val_traffic_situation_output_accuracy: 0.6768 - val_traffic_situation_output_loss: 0.8143 - val_vehicle_counts_output_loss: 196.0642 - val_vehicle_counts_output_mae: 9.0469\n",
      "Epoch 48/100\n",
      "\u001b[1m119/119\u001b[0m \u001b[32m━━━━━━━━━━━━━━━━━━━━\u001b[0m\u001b[37m\u001b[0m \u001b[1m1s\u001b[0m 6ms/step - loss: 289.2411 - traffic_situation_output_accuracy: 0.6466 - traffic_situation_output_loss: 0.8810 - vehicle_counts_output_loss: 288.3601 - vehicle_counts_output_mae: 11.0194 - val_loss: 188.8229 - val_traffic_situation_output_accuracy: 0.6894 - val_traffic_situation_output_loss: 0.8001 - val_vehicle_counts_output_loss: 188.2257 - val_vehicle_counts_output_mae: 8.9711\n",
      "Epoch 49/100\n",
      "\u001b[1m119/119\u001b[0m \u001b[32m━━━━━━━━━━━━━━━━━━━━\u001b[0m\u001b[37m\u001b[0m \u001b[1m1s\u001b[0m 5ms/step - loss: 291.2525 - traffic_situation_output_accuracy: 0.6593 - traffic_situation_output_loss: 0.8872 - vehicle_counts_output_loss: 290.3653 - vehicle_counts_output_mae: 11.0196 - val_loss: 188.5562 - val_traffic_situation_output_accuracy: 0.6800 - val_traffic_situation_output_loss: 0.8112 - val_vehicle_counts_output_loss: 187.8489 - val_vehicle_counts_output_mae: 9.0810\n",
      "Epoch 50/100\n",
      "\u001b[1m119/119\u001b[0m \u001b[32m━━━━━━━━━━━━━━━━━━━━\u001b[0m\u001b[37m\u001b[0m \u001b[1m1s\u001b[0m 5ms/step - loss: 282.3417 - traffic_situation_output_accuracy: 0.6485 - traffic_situation_output_loss: 0.8957 - vehicle_counts_output_loss: 281.4460 - vehicle_counts_output_mae: 10.9656 - val_loss: 174.9108 - val_traffic_situation_output_accuracy: 0.6946 - val_traffic_situation_output_loss: 0.7943 - val_vehicle_counts_output_loss: 174.3313 - val_vehicle_counts_output_mae: 8.7353\n",
      "Epoch 51/100\n",
      "\u001b[1m119/119\u001b[0m \u001b[32m━━━━━━━━━━━━━━━━━━━━\u001b[0m\u001b[37m\u001b[0m \u001b[1m1s\u001b[0m 6ms/step - loss: 294.8531 - traffic_situation_output_accuracy: 0.6574 - traffic_situation_output_loss: 0.8837 - vehicle_counts_output_loss: 293.9694 - vehicle_counts_output_mae: 11.0132 - val_loss: 186.0457 - val_traffic_situation_output_accuracy: 0.6747 - val_traffic_situation_output_loss: 0.8100 - val_vehicle_counts_output_loss: 185.4283 - val_vehicle_counts_output_mae: 8.8620\n",
      "Epoch 52/100\n",
      "\u001b[1m119/119\u001b[0m \u001b[32m━━━━━━━━━━━━━━━━━━━━\u001b[0m\u001b[37m\u001b[0m \u001b[1m1s\u001b[0m 6ms/step - loss: 284.2170 - traffic_situation_output_accuracy: 0.6643 - traffic_situation_output_loss: 0.8691 - vehicle_counts_output_loss: 283.3480 - vehicle_counts_output_mae: 10.8846 - val_loss: 175.9837 - val_traffic_situation_output_accuracy: 0.7020 - val_traffic_situation_output_loss: 0.7973 - val_vehicle_counts_output_loss: 175.4322 - val_vehicle_counts_output_mae: 8.7952\n",
      "Epoch 53/100\n",
      "\u001b[1m119/119\u001b[0m \u001b[32m━━━━━━━━━━━━━━━━━━━━\u001b[0m\u001b[37m\u001b[0m \u001b[1m1s\u001b[0m 6ms/step - loss: 281.1233 - traffic_situation_output_accuracy: 0.6555 - traffic_situation_output_loss: 0.8895 - vehicle_counts_output_loss: 280.2339 - vehicle_counts_output_mae: 10.8388 - val_loss: 182.2471 - val_traffic_situation_output_accuracy: 0.6884 - val_traffic_situation_output_loss: 0.8027 - val_vehicle_counts_output_loss: 181.6735 - val_vehicle_counts_output_mae: 8.7924\n",
      "Epoch 54/100\n",
      "\u001b[1m119/119\u001b[0m \u001b[32m━━━━━━━━━━━━━━━━━━━━\u001b[0m\u001b[37m\u001b[0m \u001b[1m1s\u001b[0m 5ms/step - loss: 282.3203 - traffic_situation_output_accuracy: 0.6585 - traffic_situation_output_loss: 0.8682 - vehicle_counts_output_loss: 281.4521 - vehicle_counts_output_mae: 10.8770 - val_loss: 183.3518 - val_traffic_situation_output_accuracy: 0.6810 - val_traffic_situation_output_loss: 0.8182 - val_vehicle_counts_output_loss: 182.6098 - val_vehicle_counts_output_mae: 8.8481\n",
      "Epoch 55/100\n",
      "\u001b[1m119/119\u001b[0m \u001b[32m━━━━━━━━━━━━━━━━━━━━\u001b[0m\u001b[37m\u001b[0m \u001b[1m1s\u001b[0m 6ms/step - loss: 275.7482 - traffic_situation_output_accuracy: 0.6489 - traffic_situation_output_loss: 0.8850 - vehicle_counts_output_loss: 274.8633 - vehicle_counts_output_mae: 10.7018 - val_loss: 170.9949 - val_traffic_situation_output_accuracy: 0.6946 - val_traffic_situation_output_loss: 0.7886 - val_vehicle_counts_output_loss: 170.4593 - val_vehicle_counts_output_mae: 8.7763\n",
      "Epoch 56/100\n",
      "\u001b[1m119/119\u001b[0m \u001b[32m━━━━━━━━━━━━━━━━━━━━\u001b[0m\u001b[37m\u001b[0m \u001b[1m1s\u001b[0m 5ms/step - loss: 287.0899 - traffic_situation_output_accuracy: 0.6680 - traffic_situation_output_loss: 0.8776 - vehicle_counts_output_loss: 286.2122 - vehicle_counts_output_mae: 10.8765 - val_loss: 175.3906 - val_traffic_situation_output_accuracy: 0.6925 - val_traffic_situation_output_loss: 0.8001 - val_vehicle_counts_output_loss: 174.6402 - val_vehicle_counts_output_mae: 8.7222\n",
      "Epoch 57/100\n",
      "\u001b[1m119/119\u001b[0m \u001b[32m━━━━━━━━━━━━━━━━━━━━\u001b[0m\u001b[37m\u001b[0m \u001b[1m1s\u001b[0m 5ms/step - loss: 295.2942 - traffic_situation_output_accuracy: 0.6478 - traffic_situation_output_loss: 0.8869 - vehicle_counts_output_loss: 294.4072 - vehicle_counts_output_mae: 10.9688 - val_loss: 180.3233 - val_traffic_situation_output_accuracy: 0.6863 - val_traffic_situation_output_loss: 0.7990 - val_vehicle_counts_output_loss: 179.6491 - val_vehicle_counts_output_mae: 8.8074\n",
      "Epoch 58/100\n",
      "\u001b[1m119/119\u001b[0m \u001b[32m━━━━━━━━━━━━━━━━━━━━\u001b[0m\u001b[37m\u001b[0m \u001b[1m1s\u001b[0m 5ms/step - loss: 281.7023 - traffic_situation_output_accuracy: 0.6559 - traffic_situation_output_loss: 0.8757 - vehicle_counts_output_loss: 280.8266 - vehicle_counts_output_mae: 10.8284 - val_loss: 179.1290 - val_traffic_situation_output_accuracy: 0.6800 - val_traffic_situation_output_loss: 0.7978 - val_vehicle_counts_output_loss: 178.4157 - val_vehicle_counts_output_mae: 8.8395\n",
      "Epoch 59/100\n",
      "\u001b[1m119/119\u001b[0m \u001b[32m━━━━━━━━━━━━━━━━━━━━\u001b[0m\u001b[37m\u001b[0m \u001b[1m1s\u001b[0m 5ms/step - loss: 283.0033 - traffic_situation_output_accuracy: 0.6616 - traffic_situation_output_loss: 0.8863 - vehicle_counts_output_loss: 282.1170 - vehicle_counts_output_mae: 10.9204 - val_loss: 173.8359 - val_traffic_situation_output_accuracy: 0.7083 - val_traffic_situation_output_loss: 0.7794 - val_vehicle_counts_output_loss: 173.1953 - val_vehicle_counts_output_mae: 8.6841\n",
      "Epoch 60/100\n",
      "\u001b[1m119/119\u001b[0m \u001b[32m━━━━━━━━━━━━━━━━━━━━\u001b[0m\u001b[37m\u001b[0m \u001b[1m1s\u001b[0m 5ms/step - loss: 275.6388 - traffic_situation_output_accuracy: 0.6677 - traffic_situation_output_loss: 0.8595 - vehicle_counts_output_loss: 274.7792 - vehicle_counts_output_mae: 10.6886 - val_loss: 175.8132 - val_traffic_situation_output_accuracy: 0.6936 - val_traffic_situation_output_loss: 0.7952 - val_vehicle_counts_output_loss: 175.2466 - val_vehicle_counts_output_mae: 8.6969\n",
      "Epoch 61/100\n",
      "\u001b[1m119/119\u001b[0m \u001b[32m━━━━━━━━━━━━━━━━━━━━\u001b[0m\u001b[37m\u001b[0m \u001b[1m1s\u001b[0m 5ms/step - loss: 275.8954 - traffic_situation_output_accuracy: 0.6613 - traffic_situation_output_loss: 0.8773 - vehicle_counts_output_loss: 275.0181 - vehicle_counts_output_mae: 10.7376 - val_loss: 167.6360 - val_traffic_situation_output_accuracy: 0.7041 - val_traffic_situation_output_loss: 0.7827 - val_vehicle_counts_output_loss: 167.1096 - val_vehicle_counts_output_mae: 8.5106\n",
      "Epoch 62/100\n",
      "\u001b[1m119/119\u001b[0m \u001b[32m━━━━━━━━━━━━━━━━━━━━\u001b[0m\u001b[37m\u001b[0m \u001b[1m1s\u001b[0m 6ms/step - loss: 288.0872 - traffic_situation_output_accuracy: 0.6544 - traffic_situation_output_loss: 0.8833 - vehicle_counts_output_loss: 287.2039 - vehicle_counts_output_mae: 10.8944 - val_loss: 169.6834 - val_traffic_situation_output_accuracy: 0.7030 - val_traffic_situation_output_loss: 0.7838 - val_vehicle_counts_output_loss: 169.1102 - val_vehicle_counts_output_mae: 8.5476\n",
      "Epoch 63/100\n",
      "\u001b[1m119/119\u001b[0m \u001b[32m━━━━━━━━━━━━━━━━━━━━\u001b[0m\u001b[37m\u001b[0m \u001b[1m1s\u001b[0m 5ms/step - loss: 273.0915 - traffic_situation_output_accuracy: 0.6628 - traffic_situation_output_loss: 0.8757 - vehicle_counts_output_loss: 272.2159 - vehicle_counts_output_mae: 10.6486 - val_loss: 181.7442 - val_traffic_situation_output_accuracy: 0.6873 - val_traffic_situation_output_loss: 0.7836 - val_vehicle_counts_output_loss: 181.1526 - val_vehicle_counts_output_mae: 8.5738\n",
      "Epoch 64/100\n",
      "\u001b[1m119/119\u001b[0m \u001b[32m━━━━━━━━━━━━━━━━━━━━\u001b[0m\u001b[37m\u001b[0m \u001b[1m1s\u001b[0m 6ms/step - loss: 271.6801 - traffic_situation_output_accuracy: 0.6626 - traffic_situation_output_loss: 0.8789 - vehicle_counts_output_loss: 270.8012 - vehicle_counts_output_mae: 10.5757 - val_loss: 169.6926 - val_traffic_situation_output_accuracy: 0.6894 - val_traffic_situation_output_loss: 0.7900 - val_vehicle_counts_output_loss: 169.1130 - val_vehicle_counts_output_mae: 8.5013\n",
      "Epoch 65/100\n",
      "\u001b[1m119/119\u001b[0m \u001b[32m━━━━━━━━━━━━━━━━━━━━\u001b[0m\u001b[37m\u001b[0m \u001b[1m1s\u001b[0m 5ms/step - loss: 266.7591 - traffic_situation_output_accuracy: 0.6641 - traffic_situation_output_loss: 0.8646 - vehicle_counts_output_loss: 265.8945 - vehicle_counts_output_mae: 10.6116 - val_loss: 170.8147 - val_traffic_situation_output_accuracy: 0.6946 - val_traffic_situation_output_loss: 0.7780 - val_vehicle_counts_output_loss: 170.1846 - val_vehicle_counts_output_mae: 8.6109\n",
      "Epoch 66/100\n",
      "\u001b[1m119/119\u001b[0m \u001b[32m━━━━━━━━━━━━━━━━━━━━\u001b[0m\u001b[37m\u001b[0m \u001b[1m1s\u001b[0m 6ms/step - loss: 272.2179 - traffic_situation_output_accuracy: 0.6536 - traffic_situation_output_loss: 0.8842 - vehicle_counts_output_loss: 271.3336 - vehicle_counts_output_mae: 10.6760 - val_loss: 158.6087 - val_traffic_situation_output_accuracy: 0.7104 - val_traffic_situation_output_loss: 0.7669 - val_vehicle_counts_output_loss: 157.9916 - val_vehicle_counts_output_mae: 8.3520\n",
      "Epoch 67/100\n",
      "\u001b[1m119/119\u001b[0m \u001b[32m━━━━━━━━━━━━━━━━━━━━\u001b[0m\u001b[37m\u001b[0m \u001b[1m1s\u001b[0m 5ms/step - loss: 279.9978 - traffic_situation_output_accuracy: 0.6550 - traffic_situation_output_loss: 0.8788 - vehicle_counts_output_loss: 279.1190 - vehicle_counts_output_mae: 10.8091 - val_loss: 159.0117 - val_traffic_situation_output_accuracy: 0.6988 - val_traffic_situation_output_loss: 0.7636 - val_vehicle_counts_output_loss: 158.4431 - val_vehicle_counts_output_mae: 8.2109\n",
      "Epoch 68/100\n",
      "\u001b[1m119/119\u001b[0m \u001b[32m━━━━━━━━━━━━━━━━━━━━\u001b[0m\u001b[37m\u001b[0m \u001b[1m1s\u001b[0m 5ms/step - loss: 263.4116 - traffic_situation_output_accuracy: 0.6664 - traffic_situation_output_loss: 0.8526 - vehicle_counts_output_loss: 262.5590 - vehicle_counts_output_mae: 10.5793 - val_loss: 162.7249 - val_traffic_situation_output_accuracy: 0.7093 - val_traffic_situation_output_loss: 0.7623 - val_vehicle_counts_output_loss: 162.1063 - val_vehicle_counts_output_mae: 8.4063\n",
      "Epoch 69/100\n",
      "\u001b[1m119/119\u001b[0m \u001b[32m━━━━━━━━━━━━━━━━━━━━\u001b[0m\u001b[37m\u001b[0m \u001b[1m1s\u001b[0m 5ms/step - loss: 262.0102 - traffic_situation_output_accuracy: 0.6381 - traffic_situation_output_loss: 0.8803 - vehicle_counts_output_loss: 261.1299 - vehicle_counts_output_mae: 10.6086 - val_loss: 159.5341 - val_traffic_situation_output_accuracy: 0.6988 - val_traffic_situation_output_loss: 0.7626 - val_vehicle_counts_output_loss: 158.9991 - val_vehicle_counts_output_mae: 8.3011\n",
      "Epoch 70/100\n",
      "\u001b[1m119/119\u001b[0m \u001b[32m━━━━━━━━━━━━━━━━━━━━\u001b[0m\u001b[37m\u001b[0m \u001b[1m1s\u001b[0m 5ms/step - loss: 278.1525 - traffic_situation_output_accuracy: 0.6524 - traffic_situation_output_loss: 0.8959 - vehicle_counts_output_loss: 277.2566 - vehicle_counts_output_mae: 10.7764 - val_loss: 169.4976 - val_traffic_situation_output_accuracy: 0.6936 - val_traffic_situation_output_loss: 0.7836 - val_vehicle_counts_output_loss: 168.7732 - val_vehicle_counts_output_mae: 8.4555\n",
      "Epoch 71/100\n",
      "\u001b[1m119/119\u001b[0m \u001b[32m━━━━━━━━━━━━━━━━━━━━\u001b[0m\u001b[37m\u001b[0m \u001b[1m1s\u001b[0m 6ms/step - loss: 276.0993 - traffic_situation_output_accuracy: 0.6680 - traffic_situation_output_loss: 0.8652 - vehicle_counts_output_loss: 275.2341 - vehicle_counts_output_mae: 10.7274 - val_loss: 156.7753 - val_traffic_situation_output_accuracy: 0.6988 - val_traffic_situation_output_loss: 0.7585 - val_vehicle_counts_output_loss: 156.0664 - val_vehicle_counts_output_mae: 8.1670\n",
      "Epoch 72/100\n",
      "\u001b[1m119/119\u001b[0m \u001b[32m━━━━━━━━━━━━━━━━━━━━\u001b[0m\u001b[37m\u001b[0m \u001b[1m1s\u001b[0m 5ms/step - loss: 270.4130 - traffic_situation_output_accuracy: 0.6572 - traffic_situation_output_loss: 0.8726 - vehicle_counts_output_loss: 269.5403 - vehicle_counts_output_mae: 10.6056 - val_loss: 168.6647 - val_traffic_situation_output_accuracy: 0.6905 - val_traffic_situation_output_loss: 0.7700 - val_vehicle_counts_output_loss: 167.9239 - val_vehicle_counts_output_mae: 8.5768\n",
      "Epoch 73/100\n",
      "\u001b[1m119/119\u001b[0m \u001b[32m━━━━━━━━━━━━━━━━━━━━\u001b[0m\u001b[37m\u001b[0m \u001b[1m1s\u001b[0m 6ms/step - loss: 265.4589 - traffic_situation_output_accuracy: 0.6589 - traffic_situation_output_loss: 0.8542 - vehicle_counts_output_loss: 264.6048 - vehicle_counts_output_mae: 10.5445 - val_loss: 181.7431 - val_traffic_situation_output_accuracy: 0.6894 - val_traffic_situation_output_loss: 0.7920 - val_vehicle_counts_output_loss: 181.0047 - val_vehicle_counts_output_mae: 8.7996\n",
      "Epoch 74/100\n",
      "\u001b[1m119/119\u001b[0m \u001b[32m━━━━━━━━━━━━━━━━━━━━\u001b[0m\u001b[37m\u001b[0m \u001b[1m1s\u001b[0m 5ms/step - loss: 276.6175 - traffic_situation_output_accuracy: 0.6662 - traffic_situation_output_loss: 0.8608 - vehicle_counts_output_loss: 275.7567 - vehicle_counts_output_mae: 10.6202 - val_loss: 175.6727 - val_traffic_situation_output_accuracy: 0.6863 - val_traffic_situation_output_loss: 0.7823 - val_vehicle_counts_output_loss: 174.8136 - val_vehicle_counts_output_mae: 8.7357\n",
      "Epoch 75/100\n",
      "\u001b[1m119/119\u001b[0m \u001b[32m━━━━━━━━━━━━━━━━━━━━\u001b[0m\u001b[37m\u001b[0m \u001b[1m1s\u001b[0m 5ms/step - loss: 254.2419 - traffic_situation_output_accuracy: 0.6401 - traffic_situation_output_loss: 0.8996 - vehicle_counts_output_loss: 253.3423 - vehicle_counts_output_mae: 10.3299 - val_loss: 156.0230 - val_traffic_situation_output_accuracy: 0.6905 - val_traffic_situation_output_loss: 0.7735 - val_vehicle_counts_output_loss: 155.3101 - val_vehicle_counts_output_mae: 8.1162\n",
      "Epoch 76/100\n",
      "\u001b[1m119/119\u001b[0m \u001b[32m━━━━━━━━━━━━━━━━━━━━\u001b[0m\u001b[37m\u001b[0m \u001b[1m1s\u001b[0m 6ms/step - loss: 263.9035 - traffic_situation_output_accuracy: 0.6696 - traffic_situation_output_loss: 0.8670 - vehicle_counts_output_loss: 263.0365 - vehicle_counts_output_mae: 10.4151 - val_loss: 153.5691 - val_traffic_situation_output_accuracy: 0.6905 - val_traffic_situation_output_loss: 0.7631 - val_vehicle_counts_output_loss: 153.0572 - val_vehicle_counts_output_mae: 8.1729\n",
      "Epoch 77/100\n",
      "\u001b[1m119/119\u001b[0m \u001b[32m━━━━━━━━━━━━━━━━━━━━\u001b[0m\u001b[37m\u001b[0m \u001b[1m1s\u001b[0m 5ms/step - loss: 255.6042 - traffic_situation_output_accuracy: 0.6604 - traffic_situation_output_loss: 0.8607 - vehicle_counts_output_loss: 254.7435 - vehicle_counts_output_mae: 10.3136 - val_loss: 165.7710 - val_traffic_situation_output_accuracy: 0.6789 - val_traffic_situation_output_loss: 0.7778 - val_vehicle_counts_output_loss: 165.0902 - val_vehicle_counts_output_mae: 8.2465\n",
      "Epoch 78/100\n",
      "\u001b[1m119/119\u001b[0m \u001b[32m━━━━━━━━━━━━━━━━━━━━\u001b[0m\u001b[37m\u001b[0m \u001b[1m1s\u001b[0m 6ms/step - loss: 256.3427 - traffic_situation_output_accuracy: 0.6891 - traffic_situation_output_loss: 0.8277 - vehicle_counts_output_loss: 255.5150 - vehicle_counts_output_mae: 10.3518 - val_loss: 167.5972 - val_traffic_situation_output_accuracy: 0.6884 - val_traffic_situation_output_loss: 0.7778 - val_vehicle_counts_output_loss: 166.9133 - val_vehicle_counts_output_mae: 8.3516\n",
      "Epoch 79/100\n",
      "\u001b[1m119/119\u001b[0m \u001b[32m━━━━━━━━━━━━━━━━━━━━\u001b[0m\u001b[37m\u001b[0m \u001b[1m1s\u001b[0m 6ms/step - loss: 262.3341 - traffic_situation_output_accuracy: 0.6589 - traffic_situation_output_loss: 0.8758 - vehicle_counts_output_loss: 261.4582 - vehicle_counts_output_mae: 10.5121 - val_loss: 162.8922 - val_traffic_situation_output_accuracy: 0.6936 - val_traffic_situation_output_loss: 0.7716 - val_vehicle_counts_output_loss: 162.2492 - val_vehicle_counts_output_mae: 8.2660\n",
      "Epoch 80/100\n",
      "\u001b[1m119/119\u001b[0m \u001b[32m━━━━━━━━━━━━━━━━━━━━\u001b[0m\u001b[37m\u001b[0m \u001b[1m1s\u001b[0m 5ms/step - loss: 261.9225 - traffic_situation_output_accuracy: 0.6532 - traffic_situation_output_loss: 0.8670 - vehicle_counts_output_loss: 261.0555 - vehicle_counts_output_mae: 10.4355 - val_loss: 153.5911 - val_traffic_situation_output_accuracy: 0.6978 - val_traffic_situation_output_loss: 0.7569 - val_vehicle_counts_output_loss: 152.9361 - val_vehicle_counts_output_mae: 8.0989\n",
      "Epoch 81/100\n",
      "\u001b[1m119/119\u001b[0m \u001b[32m━━━━━━━━━━━━━━━━━━━━\u001b[0m\u001b[37m\u001b[0m \u001b[1m1s\u001b[0m 6ms/step - loss: 257.8473 - traffic_situation_output_accuracy: 0.6759 - traffic_situation_output_loss: 0.8425 - vehicle_counts_output_loss: 257.0048 - vehicle_counts_output_mae: 10.4155 - val_loss: 146.2712 - val_traffic_situation_output_accuracy: 0.6936 - val_traffic_situation_output_loss: 0.7569 - val_vehicle_counts_output_loss: 145.5648 - val_vehicle_counts_output_mae: 8.0677\n",
      "Epoch 82/100\n",
      "\u001b[1m119/119\u001b[0m \u001b[32m━━━━━━━━━━━━━━━━━━━━\u001b[0m\u001b[37m\u001b[0m \u001b[1m1s\u001b[0m 5ms/step - loss: 266.0094 - traffic_situation_output_accuracy: 0.6700 - traffic_situation_output_loss: 0.8569 - vehicle_counts_output_loss: 265.1524 - vehicle_counts_output_mae: 10.5612 - val_loss: 162.9733 - val_traffic_situation_output_accuracy: 0.6884 - val_traffic_situation_output_loss: 0.7701 - val_vehicle_counts_output_loss: 162.3223 - val_vehicle_counts_output_mae: 8.2399\n",
      "Epoch 83/100\n",
      "\u001b[1m119/119\u001b[0m \u001b[32m━━━━━━━━━━━━━━━━━━━━\u001b[0m\u001b[37m\u001b[0m \u001b[1m1s\u001b[0m 6ms/step - loss: 254.6021 - traffic_situation_output_accuracy: 0.6810 - traffic_situation_output_loss: 0.8360 - vehicle_counts_output_loss: 253.7661 - vehicle_counts_output_mae: 10.2997 - val_loss: 154.7311 - val_traffic_situation_output_accuracy: 0.6905 - val_traffic_situation_output_loss: 0.7667 - val_vehicle_counts_output_loss: 154.0499 - val_vehicle_counts_output_mae: 8.2253\n",
      "Epoch 84/100\n",
      "\u001b[1m119/119\u001b[0m \u001b[32m━━━━━━━━━━━━━━━━━━━━\u001b[0m\u001b[37m\u001b[0m \u001b[1m1s\u001b[0m 6ms/step - loss: 250.2555 - traffic_situation_output_accuracy: 0.6567 - traffic_situation_output_loss: 0.8510 - vehicle_counts_output_loss: 249.4045 - vehicle_counts_output_mae: 10.2211 - val_loss: 142.8624 - val_traffic_situation_output_accuracy: 0.6988 - val_traffic_situation_output_loss: 0.7506 - val_vehicle_counts_output_loss: 142.2097 - val_vehicle_counts_output_mae: 7.8951\n",
      "Epoch 85/100\n",
      "\u001b[1m119/119\u001b[0m \u001b[32m━━━━━━━━━━━━━━━━━━━━\u001b[0m\u001b[37m\u001b[0m \u001b[1m1s\u001b[0m 6ms/step - loss: 250.1137 - traffic_situation_output_accuracy: 0.6775 - traffic_situation_output_loss: 0.8450 - vehicle_counts_output_loss: 249.2687 - vehicle_counts_output_mae: 10.3123 - val_loss: 148.1659 - val_traffic_situation_output_accuracy: 0.7030 - val_traffic_situation_output_loss: 0.7509 - val_vehicle_counts_output_loss: 147.4425 - val_vehicle_counts_output_mae: 8.0468\n",
      "Epoch 86/100\n",
      "\u001b[1m119/119\u001b[0m \u001b[32m━━━━━━━━━━━━━━━━━━━━\u001b[0m\u001b[37m\u001b[0m \u001b[1m1s\u001b[0m 5ms/step - loss: 261.0556 - traffic_situation_output_accuracy: 0.6670 - traffic_situation_output_loss: 0.8470 - vehicle_counts_output_loss: 260.2085 - vehicle_counts_output_mae: 10.4311 - val_loss: 169.2670 - val_traffic_situation_output_accuracy: 0.6988 - val_traffic_situation_output_loss: 0.7605 - val_vehicle_counts_output_loss: 168.4542 - val_vehicle_counts_output_mae: 8.3841\n",
      "Epoch 87/100\n",
      "\u001b[1m119/119\u001b[0m \u001b[32m━━━━━━━━━━━━━━━━━━━━\u001b[0m\u001b[37m\u001b[0m \u001b[1m1s\u001b[0m 5ms/step - loss: 254.0367 - traffic_situation_output_accuracy: 0.6667 - traffic_situation_output_loss: 0.8508 - vehicle_counts_output_loss: 253.1859 - vehicle_counts_output_mae: 10.3252 - val_loss: 169.0515 - val_traffic_situation_output_accuracy: 0.6884 - val_traffic_situation_output_loss: 0.7799 - val_vehicle_counts_output_loss: 168.1982 - val_vehicle_counts_output_mae: 8.5674\n",
      "Epoch 88/100\n",
      "\u001b[1m119/119\u001b[0m \u001b[32m━━━━━━━━━━━━━━━━━━━━\u001b[0m\u001b[37m\u001b[0m \u001b[1m1s\u001b[0m 5ms/step - loss: 257.7262 - traffic_situation_output_accuracy: 0.6641 - traffic_situation_output_loss: 0.8633 - vehicle_counts_output_loss: 256.8629 - vehicle_counts_output_mae: 10.3905 - val_loss: 152.0378 - val_traffic_situation_output_accuracy: 0.6967 - val_traffic_situation_output_loss: 0.7626 - val_vehicle_counts_output_loss: 151.3688 - val_vehicle_counts_output_mae: 8.1082\n",
      "Epoch 89/100\n",
      "\u001b[1m119/119\u001b[0m \u001b[32m━━━━━━━━━━━━━━━━━━━━\u001b[0m\u001b[37m\u001b[0m \u001b[1m1s\u001b[0m 5ms/step - loss: 249.4253 - traffic_situation_output_accuracy: 0.6734 - traffic_situation_output_loss: 0.8233 - vehicle_counts_output_loss: 248.6020 - vehicle_counts_output_mae: 10.1469 - val_loss: 144.0121 - val_traffic_situation_output_accuracy: 0.7125 - val_traffic_situation_output_loss: 0.7416 - val_vehicle_counts_output_loss: 143.2796 - val_vehicle_counts_output_mae: 7.9638\n",
      "Epoch 90/100\n",
      "\u001b[1m119/119\u001b[0m \u001b[32m━━━━━━━━━━━━━━━━━━━━\u001b[0m\u001b[37m\u001b[0m \u001b[1m1s\u001b[0m 5ms/step - loss: 253.4822 - traffic_situation_output_accuracy: 0.6516 - traffic_situation_output_loss: 0.8657 - vehicle_counts_output_loss: 252.6165 - vehicle_counts_output_mae: 10.3357 - val_loss: 151.0971 - val_traffic_situation_output_accuracy: 0.7020 - val_traffic_situation_output_loss: 0.7477 - val_vehicle_counts_output_loss: 150.4259 - val_vehicle_counts_output_mae: 8.1634\n",
      "Epoch 91/100\n",
      "\u001b[1m119/119\u001b[0m \u001b[32m━━━━━━━━━━━━━━━━━━━━\u001b[0m\u001b[37m\u001b[0m \u001b[1m1s\u001b[0m 5ms/step - loss: 249.6401 - traffic_situation_output_accuracy: 0.6733 - traffic_situation_output_loss: 0.8593 - vehicle_counts_output_loss: 248.7807 - vehicle_counts_output_mae: 10.1656 - val_loss: 155.4250 - val_traffic_situation_output_accuracy: 0.6905 - val_traffic_situation_output_loss: 0.7581 - val_vehicle_counts_output_loss: 154.6921 - val_vehicle_counts_output_mae: 8.0371\n",
      "Epoch 92/100\n",
      "\u001b[1m119/119\u001b[0m \u001b[32m━━━━━━━━━━━━━━━━━━━━\u001b[0m\u001b[37m\u001b[0m \u001b[1m1s\u001b[0m 5ms/step - loss: 249.6520 - traffic_situation_output_accuracy: 0.6650 - traffic_situation_output_loss: 0.8554 - vehicle_counts_output_loss: 248.7966 - vehicle_counts_output_mae: 10.2114 - val_loss: 148.5550 - val_traffic_situation_output_accuracy: 0.6946 - val_traffic_situation_output_loss: 0.7512 - val_vehicle_counts_output_loss: 147.8142 - val_vehicle_counts_output_mae: 8.1283\n",
      "Epoch 93/100\n",
      "\u001b[1m119/119\u001b[0m \u001b[32m━━━━━━━━━━━━━━━━━━━━\u001b[0m\u001b[37m\u001b[0m \u001b[1m1s\u001b[0m 6ms/step - loss: 244.5123 - traffic_situation_output_accuracy: 0.6584 - traffic_situation_output_loss: 0.8651 - vehicle_counts_output_loss: 243.6472 - vehicle_counts_output_mae: 10.1345 - val_loss: 146.5072 - val_traffic_situation_output_accuracy: 0.7020 - val_traffic_situation_output_loss: 0.7450 - val_vehicle_counts_output_loss: 145.7641 - val_vehicle_counts_output_mae: 7.9440\n",
      "Epoch 94/100\n",
      "\u001b[1m119/119\u001b[0m \u001b[32m━━━━━━━━━━━━━━━━━━━━\u001b[0m\u001b[37m\u001b[0m \u001b[1m1s\u001b[0m 5ms/step - loss: 238.6637 - traffic_situation_output_accuracy: 0.6770 - traffic_situation_output_loss: 0.8390 - vehicle_counts_output_loss: 237.8246 - vehicle_counts_output_mae: 9.9702 - val_loss: 141.6895 - val_traffic_situation_output_accuracy: 0.7083 - val_traffic_situation_output_loss: 0.7429 - val_vehicle_counts_output_loss: 140.9904 - val_vehicle_counts_output_mae: 7.9572\n",
      "Epoch 95/100\n",
      "\u001b[1m119/119\u001b[0m \u001b[32m━━━━━━━━━━━━━━━━━━━━\u001b[0m\u001b[37m\u001b[0m \u001b[1m1s\u001b[0m 6ms/step - loss: 243.3049 - traffic_situation_output_accuracy: 0.6931 - traffic_situation_output_loss: 0.8100 - vehicle_counts_output_loss: 242.4950 - vehicle_counts_output_mae: 10.0459 - val_loss: 143.6888 - val_traffic_situation_output_accuracy: 0.7083 - val_traffic_situation_output_loss: 0.7346 - val_vehicle_counts_output_loss: 143.0583 - val_vehicle_counts_output_mae: 7.8801\n",
      "Epoch 96/100\n",
      "\u001b[1m119/119\u001b[0m \u001b[32m━━━━━━━━━━━━━━━━━━━━\u001b[0m\u001b[37m\u001b[0m \u001b[1m1s\u001b[0m 5ms/step - loss: 234.8982 - traffic_situation_output_accuracy: 0.6770 - traffic_situation_output_loss: 0.8342 - vehicle_counts_output_loss: 234.0640 - vehicle_counts_output_mae: 9.9174 - val_loss: 171.9670 - val_traffic_situation_output_accuracy: 0.6779 - val_traffic_situation_output_loss: 0.7784 - val_vehicle_counts_output_loss: 171.1127 - val_vehicle_counts_output_mae: 8.5996\n",
      "Epoch 97/100\n",
      "\u001b[1m119/119\u001b[0m \u001b[32m━━━━━━━━━━━━━━━━━━━━\u001b[0m\u001b[37m\u001b[0m \u001b[1m1s\u001b[0m 5ms/step - loss: 238.0828 - traffic_situation_output_accuracy: 0.6767 - traffic_situation_output_loss: 0.8443 - vehicle_counts_output_loss: 237.2384 - vehicle_counts_output_mae: 9.9976 - val_loss: 137.8913 - val_traffic_situation_output_accuracy: 0.7062 - val_traffic_situation_output_loss: 0.7479 - val_vehicle_counts_output_loss: 137.2329 - val_vehicle_counts_output_mae: 7.8358\n",
      "Epoch 98/100\n",
      "\u001b[1m119/119\u001b[0m \u001b[32m━━━━━━━━━━━━━━━━━━━━\u001b[0m\u001b[37m\u001b[0m \u001b[1m1s\u001b[0m 5ms/step - loss: 240.6005 - traffic_situation_output_accuracy: 0.6572 - traffic_situation_output_loss: 0.8921 - vehicle_counts_output_loss: 239.7084 - vehicle_counts_output_mae: 10.1413 - val_loss: 146.3207 - val_traffic_situation_output_accuracy: 0.6999 - val_traffic_situation_output_loss: 0.7500 - val_vehicle_counts_output_loss: 145.7129 - val_vehicle_counts_output_mae: 7.9191\n",
      "Epoch 99/100\n",
      "\u001b[1m119/119\u001b[0m \u001b[32m━━━━━━━━━━━━━━━━━━━━\u001b[0m\u001b[37m\u001b[0m \u001b[1m1s\u001b[0m 6ms/step - loss: 238.6115 - traffic_situation_output_accuracy: 0.6878 - traffic_situation_output_loss: 0.8188 - vehicle_counts_output_loss: 237.7926 - vehicle_counts_output_mae: 10.0101 - val_loss: 142.1158 - val_traffic_situation_output_accuracy: 0.6925 - val_traffic_situation_output_loss: 0.7517 - val_vehicle_counts_output_loss: 141.4788 - val_vehicle_counts_output_mae: 7.9349\n",
      "Epoch 100/100\n",
      "\u001b[1m119/119\u001b[0m \u001b[32m━━━━━━━━━━━━━━━━━━━━\u001b[0m\u001b[37m\u001b[0m \u001b[1m1s\u001b[0m 5ms/step - loss: 241.1878 - traffic_situation_output_accuracy: 0.6707 - traffic_situation_output_loss: 0.8343 - vehicle_counts_output_loss: 240.3535 - vehicle_counts_output_mae: 10.1111 - val_loss: 137.3255 - val_traffic_situation_output_accuracy: 0.6999 - val_traffic_situation_output_loss: 0.7346 - val_vehicle_counts_output_loss: 136.6975 - val_vehicle_counts_output_mae: 7.7471\n",
      "Model training completed.\n"
     ]
    }
   ],
   "source": [
    "early_stopping = EarlyStopping(monitor='val_loss', patience=10, restore_best_weights=True)\n",
    "\n",
    "print(\"Starting model training...\")\n",
    "history = model.fit(\n",
    "    {'numerical_input': X_train_num, 'location_input': X_train_loc},\n",
    "    {'traffic_situation_output': y_train_traffic, 'vehicle_counts_output': y_train_vehicles},\n",
    "    epochs=100,\n",
    "    batch_size=32,\n",
    "    validation_split=0.2,\n",
    "    callbacks=[early_stopping],\n",
    "    verbose=1\n",
    ")\n",
    "print(\"Model training completed.\")"
   ]
  },
  {
   "cell_type": "code",
   "execution_count": 64,
   "id": "83777415",
   "metadata": {},
   "outputs": [
    {
     "name": "stdout",
     "output_type": "stream",
     "text": [
      "Evaluating model on test set...\n",
      "\n",
      "--- Model Evaluation on Test Set ---\n",
      "Traffic Situation - Loss: 145.5997, Accuracy: 143.8672\n",
      "Vehicle Counts - Loss (MSE): 0.7370, MAE: 0.7145\n"
     ]
    }
   ],
   "source": [
    "print(\"Evaluating model on test set...\")\n",
    "results = model.evaluate(\n",
    "    {'numerical_input': X_test_num, 'location_input': X_test_loc},\n",
    "    {'traffic_situation_output': y_test_traffic, 'vehicle_counts_output': y_test_vehicles},\n",
    "    verbose=0\n",
    ")\n",
    "\n",
    "traffic_loss = results[0]\n",
    "vehicle_loss_mse = results[1]\n",
    "traffic_accuracy = results[2]\n",
    "vehicle_mae = results[3]\n",
    "\n",
    "print(f\"\\n--- Model Evaluation on Test Set ---\")\n",
    "print(f\"Traffic Situation - Loss: {traffic_loss:.4f}, Accuracy: {traffic_accuracy:.4f}\")\n",
    "print(f\"Vehicle Counts - Loss (MSE): {vehicle_loss_mse:.4f}, MAE: {vehicle_mae:.4f}\")"
   ]
  },
  {
   "cell_type": "code",
   "execution_count": 65,
   "id": "6c605204",
   "metadata": {},
   "outputs": [
    {
     "name": "stdout",
     "output_type": "stream",
     "text": [
      "Making predictions on test set...\n",
      "\u001b[1m38/38\u001b[0m \u001b[32m━━━━━━━━━━━━━━━━━━━━\u001b[0m\u001b[37m\u001b[0m \u001b[1m0s\u001b[0m 6ms/step\n",
      "\n",
      "Sample of predicted vs true Traffic Situation:\n",
      "True: low, Predicted: normal\n",
      "True: normal, Predicted: heavy\n",
      "True: normal, Predicted: normal\n",
      "True: high, Predicted: normal\n",
      "True: normal, Predicted: heavy\n",
      "True: normal, Predicted: normal\n",
      "True: heavy, Predicted: heavy\n",
      "True: low, Predicted: normal\n",
      "True: normal, Predicted: normal\n",
      "True: normal, Predicted: normal\n",
      "\n",
      "Sample of predicted vs true Vehicle Counts:\n",
      "Predicted (first 5):\n",
      "[[ 17.   2.   0.  24.]\n",
      " [110.  22.  22.   6.]\n",
      " [ 49.   9.  13.  21.]\n",
      " [ 72.  16.  23.  13.]\n",
      " [110.  19.  20.  12.]]\n",
      "True (first 5):\n",
      "[[ 19   1   0  14]\n",
      " [117  10  10  18]\n",
      " [ 52   7   1  26]\n",
      " [ 80  26  35   6]\n",
      " [104  17  23   5]]\n"
     ]
    }
   ],
   "source": [
    "print(\"Making predictions on test set...\")\n",
    "predictions_traffic, predictions_vehicles = model.predict(\n",
    "    {'numerical_input': X_test_num, 'location_input': X_test_loc}\n",
    ")\n",
    "\n",
    "predicted_traffic_classes = np.argmax(predictions_traffic, axis=1)\n",
    "predicted_traffic_labels = label_encoder.inverse_transform(predicted_traffic_classes)\n",
    "\n",
    "true_traffic_classes = np.argmax(y_test_traffic, axis=1)\n",
    "true_traffic_labels = label_encoder.inverse_transform(true_traffic_classes)\n",
    "\n",
    "print(\"\\nSample of predicted vs true Traffic Situation:\")\n",
    "for i in range(10):\n",
    "    print(f\"True: {true_traffic_labels[i]}, Predicted: {predicted_traffic_labels[i]}\")\n",
    "\n",
    "print(\"\\nSample of predicted vs true Vehicle Counts:\")\n",
    "print(\"Predicted (first 5):\")\n",
    "print(predictions_vehicles[:5].round(0))\n",
    "print(\"True (first 5):\")\n",
    "print(y_test_vehicles[:5])"
   ]
  },
  {
   "cell_type": "code",
   "execution_count": 66,
   "id": "b7b8394c",
   "metadata": {},
   "outputs": [
    {
     "name": "stdout",
     "output_type": "stream",
     "text": [
      "\n",
      "--- Traffic Situation Classification Report ---\n",
      "              precision    recall  f1-score   support\n",
      "\n",
      "       heavy       0.66      0.81      0.73       216\n",
      "        high       0.00      0.00      0.00        81\n",
      "         low       0.00      0.00      0.00       146\n",
      "      normal       0.73      0.91      0.81       748\n",
      "\n",
      "    accuracy                           0.71      1191\n",
      "   macro avg       0.35      0.43      0.38      1191\n",
      "weighted avg       0.58      0.71      0.64      1191\n",
      "\n",
      "\n",
      "--- Traffic Situation Confusion Matrix ---\n",
      "[[174   0   0  42]\n",
      " [ 13   0   0  68]\n",
      " [  4   0   0 142]\n",
      " [ 71   0   0 677]]\n"
     ]
    },
    {
     "name": "stderr",
     "output_type": "stream",
     "text": [
      "c:\\Users\\XPS\\anaconda3\\Lib\\site-packages\\sklearn\\metrics\\_classification.py:1565: UndefinedMetricWarning: Precision is ill-defined and being set to 0.0 in labels with no predicted samples. Use `zero_division` parameter to control this behavior.\n",
      "  _warn_prf(average, modifier, f\"{metric.capitalize()} is\", len(result))\n",
      "c:\\Users\\XPS\\anaconda3\\Lib\\site-packages\\sklearn\\metrics\\_classification.py:1565: UndefinedMetricWarning: Precision is ill-defined and being set to 0.0 in labels with no predicted samples. Use `zero_division` parameter to control this behavior.\n",
      "  _warn_prf(average, modifier, f\"{metric.capitalize()} is\", len(result))\n",
      "c:\\Users\\XPS\\anaconda3\\Lib\\site-packages\\sklearn\\metrics\\_classification.py:1565: UndefinedMetricWarning: Precision is ill-defined and being set to 0.0 in labels with no predicted samples. Use `zero_division` parameter to control this behavior.\n",
      "  _warn_prf(average, modifier, f\"{metric.capitalize()} is\", len(result))\n"
     ]
    }
   ],
   "source": [
    "print(\"\\n--- Traffic Situation Classification Report ---\")\n",
    "print(classification_report(true_traffic_labels, predicted_traffic_labels))\n",
    "\n",
    "print(\"\\n--- Traffic Situation Confusion Matrix ---\")\n",
    "print(confusion_matrix(true_traffic_labels, predicted_traffic_labels))"
   ]
  },
  {
   "cell_type": "code",
   "execution_count": 67,
   "id": "fe4a02a5",
   "metadata": {},
   "outputs": [
    {
     "name": "stdout",
     "output_type": "stream",
     "text": [
      "\n",
      "--- Vehicle Counts Regression Metrics (MAE per vehicle type) ---\n",
      "CarCount - MSE: 414.03, MAE: 14.99\n",
      "BikeCount - MSE: 45.44, MAE: 4.97\n",
      "BusCount - MSE: 61.86, MAE: 5.59\n",
      "TruckCount - MSE: 58.12, MAE: 5.96\n"
     ]
    }
   ],
   "source": [
    "print(\"\\n--- Vehicle Counts Regression Metrics (MAE per vehicle type) ---\")\n",
    "for i, col in enumerate(vehicle_count_features):\n",
    "    mse = mean_squared_error(y_test_vehicles[:, i], predictions_vehicles[:, i])\n",
    "    mae = mean_absolute_error(y_test_vehicles[:, i], predictions_vehicles[:, i])\n",
    "    print(f\"{col} - MSE: {mse:.2f}, MAE: {mae:.2f}\")"
   ]
  },
  {
   "cell_type": "code",
   "execution_count": 68,
   "id": "eabe06cb",
   "metadata": {},
   "outputs": [
    {
     "name": "stderr",
     "output_type": "stream",
     "text": [
      "WARNING:absl:You are saving your model as an HDF5 file via `model.save()` or `keras.saving.save_model(model)`. This file format is considered legacy. We recommend using instead the native Keras format, e.g. `model.save('my_model.keras')` or `keras.saving.save_model(model, 'my_model.keras')`. \n"
     ]
    },
    {
     "name": "stdout",
     "output_type": "stream",
     "text": [
      "NEW multi-output model saved as 'traffic_cnn_temporal_spatial_only_model.h5'.\n"
     ]
    }
   ],
   "source": [
    "model.save('traffic_cnn_temporal_spatial_only_model.h5')\n",
    "print(\"NEW multi-output model saved as 'traffic_cnn_temporal_spatial_only_model.h5'.\")"
   ]
  },
  {
   "cell_type": "code",
   "execution_count": 69,
   "id": "6c2fc79e",
   "metadata": {},
   "outputs": [
    {
     "name": "stdout",
     "output_type": "stream",
     "text": [
      "Load function defined.\n"
     ]
    }
   ],
   "source": [
    "def load_traffic_model_with_location():\n",
    "    \"\"\"\n",
    "    Loads the updated traffic prediction model and preprocessing objects.\n",
    "    \"\"\"\n",
    "    model = tf.keras.models.load_model('traffic_cnn_multi_output_model.h5')\n",
    "    scaler = joblib.load('traffic_scaler_with_location_updated.pkl')\n",
    "    label_encoder = joblib.load('traffic_label_encoder_with_location_updated.pkl')\n",
    "    onehot_encoder_location = joblib.load('location_onehot_encoder_updated.pkl')\n",
    "    return model, scaler, label_encoder, onehot_encoder_location\n",
    "\n",
    "print(\"Load function defined.\")"
   ]
  },
  {
   "cell_type": "code",
   "execution_count": 70,
   "id": "daabb242",
   "metadata": {},
   "outputs": [],
   "source": [
    "def predict_traffic_and_counts(model, scaler, label_encoder, onehot_encoder_location,\n",
    "                               time_str, date_day, day_of_week_str,\n",
    "                               car_count_current, bike_count_current, bus_count_current, truck_count_current,\n",
    "                               total_count_current, location_str):\n",
    "\n",
    "    input_data = pd.DataFrame([{\n",
    "        'Time': time_str,\n",
    "        'Date': date_day,\n",
    "        'Day of the week': day_of_week_str,\n",
    "        'CarCount': car_count_current,\n",
    "        'BikeCount': bike_count_current,\n",
    "        'BusCount': bus_count_current,\n",
    "        'TruckCount': truck_count_current,\n",
    "        'Total': total_count_current,\n",
    "        'Location': location_str\n",
    "    }])\n",
    "\n",
    "    input_data['Time_hour'] = pd.to_datetime(input_data['Time']).dt.hour\n",
    "    input_data['Time_minute'] = pd.to_datetime(input_data['Time']).dt.minute\n",
    "\n",
    "    day_of_week_mapping = {'Monday':0, 'Tuesday':1, 'Wednesday':2, 'Thursday':3, 'Friday':4, 'Saturday':5, 'Sunday':6}\n",
    "    input_data['Day_of_the_week_encoded'] = input_data['Day of the week'].map(day_of_week_mapping)\n",
    "\n",
    "    numerical_features_for_scaling = ['CarCount', 'BikeCount', 'BusCount', 'TruckCount', 'Total',\n",
    "                                      'Time_hour', 'Time_minute', 'Date', 'Day_of_the_week_encoded']\n",
    "    X_new_numerical_scaled = scaler.transform(input_data[numerical_features_for_scaling])\n",
    "    X_new_numerical_reshaped = X_new_numerical_scaled.reshape(1, X_new_numerical_scaled.shape[1], 1)\n",
    "\n",
    "    X_new_location_onehot = onehot_encoder_location.transform(input_data[['Location']])\n",
    "\n",
    "    pred_traffic, pred_vehicles = model.predict([X_new_numerical_reshaped, X_new_location_onehot])\n",
    "\n",
    "    predicted_traffic_class_idx = np.argmax(pred_traffic, axis=1)[0]\n",
    "    predicted_traffic_situation = label_encoder.inverse_transform([predicted_traffic_class_idx])[0]\n",
    "\n",
    "    predicted_vehicle_counts = pred_vehicles[0].round(0).astype(int) \n",
    "\n",
    "    return predicted_traffic_situation, predicted_vehicle_counts[0], predicted_vehicle_counts[1], \\\n",
    "           predicted_vehicle_counts[2], predicted_vehicle_counts[3]\n"
   ]
  },
  {
   "cell_type": "code",
   "execution_count": null,
   "id": "211a937a",
   "metadata": {},
   "outputs": [],
   "source": []
  }
 ],
 "metadata": {
  "kernelspec": {
   "display_name": "base",
   "language": "python",
   "name": "python3"
  },
  "language_info": {
   "codemirror_mode": {
    "name": "ipython",
    "version": 3
   },
   "file_extension": ".py",
   "mimetype": "text/x-python",
   "name": "python",
   "nbconvert_exporter": "python",
   "pygments_lexer": "ipython3",
   "version": "3.12.7"
  }
 },
 "nbformat": 4,
 "nbformat_minor": 5
}
